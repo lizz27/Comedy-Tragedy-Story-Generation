{
 "cells": [
  {
   "cell_type": "markdown",
   "metadata": {
    "collapsed": false
   },
   "source": [
    "<h1>Flash Card Mini Project</h1>\n",
    "This is a project covering a range of python topics, from storage to functions. This lets you define flashcards, then test your knowledge against them.\n",
    "\n",
    "This project is broken into 3 parts. The first covers creating and storing the flashcards, the second covers creating the loop, and the third covers validating the input"
   ]
  },
  {
   "cell_type": "markdown",
   "metadata": {
    "collapsed": false
   },
   "source": [
    "<h3>The Flashcards</h3>"
   ]
  },
  {
   "cell_type": "markdown",
   "metadata": {
    "collapsed": false
   },
   "source": [
    "In python, we can create a dictionary like this:"
   ]
  },
  {
   "cell_type": "code",
   "execution_count": 4,
   "metadata": {
    "collapsed": false,
    "vscode": {
     "languageId": "plaintext"
    }
   },
   "outputs": [
   ],
   "source": [
    "dict = {'sad':'value0', 'key1':'value1'}"
   ]
  },
  {
   "cell_type": "markdown",
   "metadata": {
    "collapsed": false
   },
   "source": [
    "Notice the curly braces, which denote a dictionary, and the colon, which pairs the key and the value. The values paired together can be anything.\n",
    "\n",
    "This pairing allows us to access the value like this (and we can print with the print() statement):\n",
    "\n"
   ]
  },
  {
   "cell_type": "code",
   "execution_count": 5,
   "metadata": {
    "collapsed": false,
    "vscode": {
     "languageId": "plaintext"
    }
   },
   "outputs": [
    {
     "name": "stdout",
     "output_type": "stream",
     "text": [
      "value1\n",
      "value0\n"
     ]
    }
   ],
   "source": [
    "print(dict['key1'])\n",
    "print(dict['sad'])"
   ]
  },
  {
   "cell_type": "markdown",
   "metadata": {
    "collapsed": false
   },
   "source": [
    "Aditionally, we can add an entry like this:"
   ]
  },
  {
   "cell_type": "code",
   "execution_count": 0,
   "metadata": {
    "collapsed": false
   },
   "outputs": [
   ],
   "source": [
   ]
  },
  {
   "cell_type": "code",
   "execution_count": 3,
   "metadata": {
    "collapsed": false,
    "vscode": {
     "languageId": "plaintext"
    }
   },
   "outputs": [
    {
     "name": "stdout",
     "output_type": "stream",
     "text": [
      "{'key0': 'value0', 'key1': 'value1', 'key2': 'value2'}\n"
     ]
    }
   ],
   "source": [
    "dict['key2'] = 'value2'\n",
    "print(dict)"
   ]
  },
  {
   "cell_type": "markdown",
   "metadata": {
    "collapsed": false
   },
   "source": [
    "And finally, we can remove an entry like this:"
   ]
  },
  {
   "cell_type": "code",
   "execution_count": 0,
   "metadata": {
    "collapsed": false,
    "vscode": {
     "languageId": "plaintext"
    }
   },
   "outputs": [
   ],
   "source": [
    "del dict['key2']\n",
    "print(dict)"
   ]
  },
  {
   "cell_type": "markdown",
   "metadata": {
    "collapsed": false
   },
   "source": [
    "Now make a dictionary of the flashcards (name it flashcards so other code syncs together) (the definition should be the key)\n",
    "\n"
   ]
  },
  {
   "cell_type": "code",
   "execution_count": 33,
   "metadata": {
    "collapsed": false,
    "vscode": {
     "languageId": "plaintext"
    }
   },
   "outputs": [
   ],
   "source": [
    "flashcards = {'dic':'dictionary','corn':'maize', 'toast': 'recooked bread'}"
   ]
  },
  {
   "cell_type": "markdown",
   "metadata": {
    "collapsed": false
   },
   "source": [
    "<h1>Running the loop</h1>"
   ]
  },
  {
   "cell_type": "markdown",
   "metadata": {
    "collapsed": false
   },
   "source": [
    "For this section, we will be creating the game loop. To do that, we need a dictionary. A sample of that is supplied here (make sure to run the next cell, but you don't need to do anything with it)"
   ]
  },
  {
   "cell_type": "code",
   "execution_count": 34,
   "metadata": {
    "collapsed": false,
    "vscode": {
     "languageId": "plaintext"
    }
   },
   "outputs": [
   ],
   "source": [
    "dict = {'key0':'value0', 'key1':'value1', 'key2':'value2'}"
   ]
  },
  {
   "cell_type": "markdown",
   "metadata": {
    "collapsed": false
   },
   "source": [
    "When we have this dictionary, we can run through it with a for loop like this:"
   ]
  },
  {
   "cell_type": "code",
   "execution_count": 35,
   "metadata": {
    "collapsed": false,
    "vscode": {
     "languageId": "plaintext"
    }
   },
   "outputs": [
    {
     "name": "stdout",
     "output_type": "stream",
     "text": [
      "dic dictionary\n",
      "corn maize\n",
      "toast recooked bread\n"
     ]
    }
   ],
   "source": [
    "for key, value in flashcards.items():\n",
    "    print(key,value)"
   ]
  },
  {
   "cell_type": "markdown",
   "metadata": {
    "collapsed": false
   },
   "source": [
    "This loops through each pair in the dictionary, saving the key to the variable key, and the value to the variable value\n",
    "\n",
    "Now that we have the keys, we can collect the user's guess using the input function and assign the result to a variable\n",
    "\n"
   ]
  },
  {
   "cell_type": "code",
   "execution_count": 12,
   "metadata": {
    "cocalc": {
     "outputs": {
      "0": {
       "name": "input",
       "opts": {
        "password": false,
        "prompt": ""
       },
       "output_type": "stream",
       "value": "corn"
      }
     }
    },
    "collapsed": false,
    "vscode": {
     "languageId": "plaintext"
    }
   },
   "outputs": [
    {
     "name": "stdout",
     "output_type": "stream",
     "text": " corn"
    }
   ],
   "source": [
    "guess = input()"
   ]
  },
  {
   "cell_type": "markdown",
   "metadata": {
    "collapsed": false
   },
   "source": [
    "But how will the student know what to write? To adress this, the input function allows us to give a prompt"
   ]
  },
  {
   "cell_type": "code",
   "execution_count": 8,
   "metadata": {
    "cocalc": {
     "outputs": {
      "0": {
       "name": "input",
       "opts": {
        "password": false,
        "prompt": "enter your guess"
       },
       "output_type": "stream",
       "value": "hello"
      },
      "1": {
       "name": "input",
       "opts": {
        "password": false,
        "prompt": "enter your guess"
       },
       "output_type": "stream",
       "value": "hello"
      }
     }
    },
    "collapsed": false,
    "vscode": {
     "languageId": "plaintext"
    }
   },
   "outputs": [
    {
     "name": "stdout",
     "output_type": "stream",
     "text": "enter your guess hello"
    },
    {
     "name": "stdout",
     "output_type": "stream",
     "text": "enter your guess hello"
    }
   ],
   "source": [
    "guess = input('enter your guess')\n",
    "# or\n",
    "prompt = 'enter your guess'\n",
    "guess = input(prompt)"
   ]
  },
  {
   "cell_type": "markdown",
   "metadata": {
    "collapsed": false
   },
   "source": [
    "Now you can put it together to make the loop:\n",
    "\n"
   ]
  },
  {
   "cell_type": "code",
   "execution_count": 28,
   "metadata": {
    "cocalc": {
     "outputs": {
      "0": {
       "name": "input",
       "opts": {
        "password": false,
        "prompt": "enter your guess"
       },
       "output_type": "stream",
       "value": "dic"
      },
      "2": {
       "name": "input",
       "opts": {
        "password": false,
        "prompt": "enter your guess"
       },
       "output_type": "stream",
       "value": "corn"
      },
      "4": {
       "name": "input",
       "opts": {
        "password": false,
        "prompt": "enter your guess"
       },
       "output_type": "stream",
       "value": "toast"
      },
      "6": {
       "name": "input",
       "opts": {
        "password": false,
        "prompt": "enter your guess"
       },
       "output_type": "stream",
       "value": "keyblade"
      }
     }
    },
    "collapsed": false,
    "vscode": {
     "languageId": "plaintext"
    }
   },
   "outputs": [
    {
     "name": "stdout",
     "output_type": "stream",
     "text": "enter your guess dic"
    },
    {
     "name": "stdout",
     "output_type": "stream",
     "text": [
      "dictionary\n"
     ]
    },
    {
     "name": "stdout",
     "output_type": "stream",
     "text": "enter your guess corn"
    },
    {
     "name": "stdout",
     "output_type": "stream",
     "text": [
      "maize\n"
     ]
    },
    {
     "name": "stdout",
     "output_type": "stream",
     "text": "enter your guess toast"
    },
    {
     "name": "stdout",
     "output_type": "stream",
     "text": [
      "recooked bread\n"
     ]
    },
    {
     "name": "stdout",
     "output_type": "stream",
     "text": "enter your guess keyblade"
    },
    {
     "name": "stdout",
     "output_type": "stream",
     "text": [
      "sora\n",
      "{'dic': 'dictionary', 'corn': 'maize', 'toast': 'recooked bread', 'keyblade': 'sora'}\n"
     ]
    }
   ],
   "source": [
    "for key, value in flashcards.items():\n",
    "    guess = input('enter your guess')\n",
    "    if key == guess:\n",
    "        print(value)\n",
    "flashcards['keyblade'] = 'sora'\n",
    "print(flashcards)"
   ]
  },
  {
   "cell_type": "markdown",
   "metadata": {
    "collapsed": false
   },
   "source": [
    "when your piece works, \n",
    "\n",
    "add the code check\\(v1,v2\\) to the end of your loop \\(where v1 is the name of your guess variable, and v2 is the name of the answer\\)\n",
    "\n"
   ]
  },
  {
   "cell_type": "markdown",
   "metadata": {
    "collapsed": false
   },
   "source": [
    "<h1>Validating guesses</h1>\n",
    "\n"
   ]
  },
  {
   "cell_type": "markdown",
   "metadata": {
    "collapsed": false
   },
   "source": [
    "We can compare our guess with the answer using an if else block"
   ]
  },
  {
   "cell_type": "code",
   "execution_count": 22,
   "metadata": {
    "collapsed": false,
    "vscode": {
     "languageId": "plaintext"
    }
   },
   "outputs": [
    {
     "name": "stdout",
     "output_type": "stream",
     "text": [
      "To bad. The answer was: Python is the best language!\n"
     ]
    }
   ],
   "source": [
    "guess = 'English is a good language'\n",
    "answer = 'Python is the best language!'\n",
    "if guess == answer:\n",
    "    print('goood job! you got it right!')\n",
    "else:\n",
    "    print('To bad. The answer was:', answer) # note: when the print function is given 2 inputs, it prints both seperated by a space"
   ]
  },
  {
   "cell_type": "markdown",
   "metadata": {
    "collapsed": false
   },
   "source": [
    "But what if our user enters 'Python' and we wanted 'python' or the other way around? to do this, we make the cases match:"
   ]
  },
  {
   "cell_type": "code",
   "execution_count": 0,
   "metadata": {
    "collapsed": false,
    "vscode": {
     "languageId": "plaintext"
    }
   },
   "outputs": [
   ],
   "source": [
    "print('PythOn'.lower())\n",
    "print('python'.lower())\n",
    "print('PythOn'.lower()=='python'.lower())"
   ]
  },
  {
   "cell_type": "markdown",
   "metadata": {
    "collapsed": false
   },
   "source": [
    "To make this easier, we can package this all into a function, which we can define as follows:\n",
    "\n"
   ]
  },
  {
   "cell_type": "code",
   "execution_count": 0,
   "metadata": {
    "collapsed": false,
    "vscode": {
     "languageId": "plaintext"
    }
   },
   "outputs": [
   ],
   "source": [
    "def func():\n",
    "    pass # pass just means there's nothing here - stops the code from breaking"
   ]
  },
  {
   "cell_type": "markdown",
   "metadata": {
    "collapsed": false
   },
   "source": [
    "A function can also take in parameters (the number isn't limited):"
   ]
  },
  {
   "cell_type": "code",
   "execution_count": 29,
   "metadata": {
    "collapsed": false,
    "vscode": {
     "languageId": "plaintext"
    }
   },
   "outputs": [
   ],
   "source": [
    "def param(arg0, arg1):\n",
    "    print(arg0, arg1)"
   ]
  },
  {
   "cell_type": "markdown",
   "metadata": {
    "collapsed": false
   },
   "source": [
    "Then we can call it like this:"
   ]
  },
  {
   "cell_type": "code",
   "execution_count": 0,
   "metadata": {
    "collapsed": false,
    "vscode": {
     "languageId": "plaintext"
    }
   },
   "outputs": [
   ],
   "source": [
    "param('AI','CAMP')"
   ]
  },
  {
   "cell_type": "markdown",
   "metadata": {
    "collapsed": false
   },
   "source": [
    "Additionally, a function can hand back a value using a return statement"
   ]
  },
  {
   "cell_type": "code",
   "execution_count": 0,
   "metadata": {
    "collapsed": false,
    "vscode": {
     "languageId": "plaintext"
    }
   },
   "outputs": [
   ],
   "source": [
    "def ret():\n",
    "    return 'Bananas'"
   ]
  },
  {
   "cell_type": "markdown",
   "metadata": {
    "collapsed": false
   },
   "source": [
    "This value can then be accessed as follows: (If you use parameters, the value can change based on the situation)"
   ]
  },
  {
   "cell_type": "code",
   "execution_count": 0,
   "metadata": {
    "collapsed": false,
    "vscode": {
     "languageId": "plaintext"
    }
   },
   "outputs": [
   ],
   "source": [
    "val = ret()\n",
    "print(val)"
   ]
  },
  {
   "cell_type": "markdown",
   "metadata": {
    "collapsed": false
   },
   "source": [
    "If you have a variable, you can also increment it in a function, like this"
   ]
  },
  {
   "cell_type": "code",
   "execution_count": 36,
   "metadata": {
    "collapsed": false,
    "vscode": {
     "languageId": "plaintext"
    }
   },
   "outputs": [
    {
     "data": {
      "text/plain": [
       "1"
      ]
     },
     "execution_count": 36,
     "metadata": {
     },
     "output_type": "execute_result"
    }
   ],
   "source": [
    "counter = 0\n",
    "def inc():\n",
    "    global counter\n",
    "    counter += 1\n",
    "inc()\n",
    "counter"
   ]
  },
  {
   "cell_type": "markdown",
   "metadata": {
    "collapsed": false
   },
   "source": [
    "Then print it like this"
   ]
  },
  {
   "cell_type": "code",
   "execution_count": 37,
   "metadata": {
    "collapsed": false,
    "vscode": {
     "languageId": "plaintext"
    }
   },
   "outputs": [
    {
     "name": "stdout",
     "output_type": "stream",
     "text": [
      "counter value: 1\n"
     ]
    }
   ],
   "source": [
    "print('counter value:', counter)"
   ]
  },
  {
   "cell_type": "markdown",
   "metadata": {
    "collapsed": false
   },
   "source": [
    "Now put this all together: (if you want to use return, you can work to integrate it with your team)\n",
    "\n"
   ]
  },
  {
   "cell_type": "code",
   "execution_count": 48,
   "metadata": {
    "cocalc": {
     "outputs": {
      "1": {
       "name": "input",
       "opts": {
        "password": false,
        "prompt": "enter your guess, hint is above"
       },
       "output_type": "stream",
       "value": "dic"
      },
      "3": {
       "name": "input",
       "opts": {
        "password": false,
        "prompt": "enter your guess, hint is above"
       },
       "output_type": "stream",
       "value": "corn"
      },
      "5": {
       "name": "input",
       "opts": {
        "password": false,
        "prompt": "enter your guess, hint is above"
       },
       "output_type": "stream",
       "value": "toast"
      },
      "7": {
       "name": "input",
       "opts": {
        "password": false,
        "prompt": "enter your guess, hint is above"
       },
       "output_type": "stream",
       "value": "keyblade"
      }
     }
    },
    "collapsed": false,
    "vscode": {
     "languageId": "plaintext"
    }
   },
   "outputs": [
    {
     "name": "stdout",
     "output_type": "stream",
     "text": [
      "dictionary\n"
     ]
    },
    {
     "name": "stdout",
     "output_type": "stream",
     "text": "enter your guess, hint is above dic"
    },
    {
     "name": "stdout",
     "output_type": "stream",
     "text": [
      "you got it right\n",
      "maize\n"
     ]
    },
    {
     "name": "stdout",
     "output_type": "stream",
     "text": "enter your guess, hint is above corn"
    },
    {
     "name": "stdout",
     "output_type": "stream",
     "text": [
      "you got it right\n",
      "recooked bread\n"
     ]
    },
    {
     "name": "stdout",
     "output_type": "stream",
     "text": "enter your guess, hint is above toast"
    },
    {
     "name": "stdout",
     "output_type": "stream",
     "text": [
      "you got it right\n",
      "sora\n"
     ]
    },
    {
     "name": "stdout",
     "output_type": "stream",
     "text": "enter your guess, hint is above keyblade"
    },
    {
     "name": "stdout",
     "output_type": "stream",
     "text": [
      "you got it right\n",
      "number correct: 4\n"
     ]
    }
   ],
   "source": [
    "counter = 0\n",
    "flashcards['keyblade'] = 'sora'\n",
    "for key, value in flashcards.items():\n",
    "    print(value)\n",
    "    guess = input('enter your guess, hint is above')\n",
    "    if key == guess:\n",
    "        print('you got it right')\n",
    "        counter += 1\n",
    "    else:\n",
    "        print('wrong, the answer is', key)\n",
    "    \n",
    "print('number correct:', counter)"
   ]
  },
  {
   "cell_type": "code",
   "execution_count": 0,
   "metadata": {
    "collapsed": false
   },
   "outputs": [
   ],
   "source": [
   ]
  }
 ],
 "metadata": {
  "kernelspec": {
   "display_name": "Python (nlp_env)",
   "language": "python",
   "metadata": {
    "debugger": true
   },
   "name": "nlp_env",
   "resource_dir": "/projects/6a848d56-5da1-43fb-bfc9-9172977ceeb4/.local/share/jupyter/kernels/nlp_env"
  },
  "language_info": {
   "codemirror_mode": {
    "name": "ipython",
    "version": 3
   },
   "file_extension": ".py",
   "mimetype": "text/x-python",
   "name": "python",
   "nbconvert_exporter": "python",
   "pygments_lexer": "ipython3",
   "version": "3.8.13"
  },
  "orig_nbformat": 4
 },
 "nbformat": 4,
 "nbformat_minor": 4
}