{
 "cells": [
  {
   "cell_type": "markdown",
   "metadata": {
    "collapsed": false,
    "id": "jQu4NqtgVF8l"
   },
   "source": [
    "# Build a Flashcard Game! \n",
    "\n",
    "We will be building a flashcard guessing game where users can guess fighting stances in Karate.\n",
    "\n",
    "\n",
    "\n",
    "> Here are the rules:\n",
    "* The user will be given the name of a fighting stance and will have to guess its definition/description.\n",
    "* Each time the user guesses the description right, the user gets a point.\n",
    "* The game will continue until there are no more stance descriptions left to guess.\n",
    "* After running out of stances, the user will see how many points they earn and will be asked if they want to play again!\n",
    "\n",
    "You can think of this as having the front of the flash card being a fighting stance and the back of the flash card being it's description. Let's get started.\n",
    "\n",
    "\n",
    "\n"
   ]
  },
  {
   "cell_type": "markdown",
   "metadata": {
    "collapsed": false,
    "id": "cuw7LZy3VF8q"
   },
   "source": [
    "## The Stances!\n",
    "\n",
    "Here are the stances:\n",
    "\n",
    "* Shezentai: Natural Stance\n",
    "* Choku-Zuki: Straight Punch\n",
    "* Oi-Zuki: Front Lunge Punch\n",
    "* Gyaku-Zuki: Reverse Punch\n",
    "* Gedan Barai: Down Block\n",
    "* Age-Uke: Rising Block\n",
    "\n",
    "If you're curious here are some photos of the stances. \n",
    "<br>\n",
    "<br>\n",
    "\n",
    "<center />\n",
    "<img src=\"https://globalmartialarts.university/wp-content/uploads/2021/01/Shotokan-Beginners-Guide-Infographic-2.jpg\" width=560 height=660 />\n",
    "\n"
   ]
  },
  {
   "cell_type": "markdown",
   "metadata": {
    "collapsed": false,
    "id": "RHa0Vb_rXjQr"
   },
   "source": [
    "## Some python help\n",
    "\n",
    "Here is some python code that might help you on your journey! Mainly you should have a good idea of how dictionaries function, since they work pretty similar to flashcards."
   ]
  },
  {
   "cell_type": "markdown",
   "metadata": {
    "collapsed": false,
    "id": "yr1mQTCVfmhM"
   },
   "source": [
    "### Dictionaries Review"
   ]
  },
  {
   "cell_type": "code",
   "execution_count": 0,
   "metadata": {
    "collapsed": false,
    "id": "3x-2-EJ4Xi7t"
   },
   "outputs": [
   ],
   "source": [
    "# create a dictionary with key value pairs. I'm just going to use some words and defintions \n",
    "my_dictionary = {\"dog\": \"a domesticated carnivorous mammal that typically has a long snout\",\n",
    "                 \"cat\": \"a small domesticated carnivorous mammal with soft fur\",\n",
    "                 \"bunny\": \"a rabbit, especially a young one.\",\n",
    "                 \"timberwolves\": \"wolves of a large variety found mainly in northern North America, with gray brindled fur.\"\n",
    "                 }\n"
   ]
  },
  {
   "cell_type": "code",
   "execution_count": 0,
   "metadata": {
    "colab": {
     "base_uri": "https://localhost:8080/"
    },
    "collapsed": false,
    "id": "dzYfo-ciVF8r",
    "outputId": "ffd2aefa-ce80-465b-c86e-eeb4dce7fcd3"
   },
   "outputs": [
    {
     "name": "stdout",
     "output_type": "stream",
     "text": [
      "a dog is... a domesticated carnivorous mammal that typically has a long snout\n"
     ]
    }
   ],
   "source": [
    "# access the value from a dictionary key\n",
    "print(\"a dog is...\", my_dictionary[\"dog\"])"
   ]
  },
  {
   "cell_type": "code",
   "execution_count": 0,
   "metadata": {
    "colab": {
     "base_uri": "https://localhost:8080/"
    },
    "collapsed": false,
    "id": "OZPVqiR8Yzxk",
    "outputId": "4bcfef45-cc37-409b-c87d-76d12e805c8a"
   },
   "outputs": [
    {
     "name": "stdout",
     "output_type": "stream",
     "text": [
      "['dog', 'cat', 'bunny', 'timberwolves']\n"
     ]
    }
   ],
   "source": [
    "#access all of the keys and store as a list\n",
    "animals = list(my_dictionary.keys())\n",
    "print(animals)"
   ]
  },
  {
   "cell_type": "code",
   "execution_count": 0,
   "metadata": {
    "colab": {
     "base_uri": "https://localhost:8080/"
    },
    "collapsed": false,
    "id": "vetkiJW3ea8T",
    "outputId": "88eeccc4-5786-46d4-db6b-335a4347247c",
    "scrolled": true
   },
   "outputs": [
    {
     "name": "stdout",
     "output_type": "stream",
     "text": [
      "dict_values(['a domesticated carnivorous mammal that typically has a long snout', 'a small domesticated carnivorous mammal with soft fur', 'a rabbit, especially a young one.', 'wolves of a large variety found mainly in northern North America, with gray brindled fur.'])\n"
     ]
    }
   ],
   "source": [
    "# print the values of a dictionary\n",
    "print(my_dictionary.values())"
   ]
  },
  {
   "cell_type": "code",
   "execution_count": 0,
   "metadata": {
    "colab": {
     "base_uri": "https://localhost:8080/"
    },
    "collapsed": false,
    "id": "iWans4X-Y9qL",
    "outputId": "ecf572ad-6727-4b73-8495-e5065acac24b"
   },
   "outputs": [
    {
     "name": "stdout",
     "output_type": "stream",
     "text": [
      "dog:  a domesticated carnivorous mammal that typically has a long snout\n",
      "cat:  a small domesticated carnivorous mammal with soft fur\n",
      "bunny:  a rabbit, especially a young one.\n",
      "timberwolves:  wolves of a large variety found mainly in northern North America, with gray brindled fur.\n"
     ]
    }
   ],
   "source": [
    "# you can use these keys to access the dictionary\n",
    "for i in animals:\n",
    "  print(i + \": \", my_dictionary[i])"
   ]
  },
  {
   "cell_type": "code",
   "execution_count": 0,
   "metadata": {
    "collapsed": false,
    "id": "Dj_Cw7cefe-H"
   },
   "outputs": [
   ],
   "source": [
    "'''\n",
    "your code here: create a dictionary with a few words from a different language (use google translate as needed) and their translation!\n",
    "'''\n",
    "lang = {\"eight\":\"huit\",\"napkin\":\"serviette\", \"chair\": \"chaise\", \"man\": \"homme\", \"table\": \"table\", \"computer\": \"ordinateur\"}"
   ]
  },
  {
   "cell_type": "markdown",
   "metadata": {
    "collapsed": false,
    "id": "wDh9B_Prfkgr"
   },
   "source": [
    "### String Formatting\n",
    "Change the code below to see how you can format strings."
   ]
  },
  {
   "cell_type": "code",
   "execution_count": 2,
   "metadata": {
    "colab": {
     "base_uri": "https://localhost:8080/"
    },
    "collapsed": false,
    "id": "nj56EG_0fpHN",
    "outputId": "cbfdf989-708e-4b36-b5f3-8f7760e47c76"
   },
   "outputs": [
    {
     "name": "stdout",
     "output_type": "stream",
     "text": [
      "We are the dogs who say \"Ni!\"\n"
     ]
    }
   ],
   "source": [
    "# Basic usage of the str.format() method looks like this:\n",
    "print('We are the {} who say \"{}!\"'.format('dogs', 'Ni'))"
   ]
  },
  {
   "cell_type": "code",
   "execution_count": 3,
   "metadata": {
    "collapsed": false,
    "id": "tbZG23SufsPA"
   },
   "outputs": [
    {
     "name": "stdout",
     "output_type": "stream",
     "text": [
      "spam and eggs\n"
     ]
    }
   ],
   "source": [
    "# A number in the brackets can be used to refer to the position of the object passed into the str.format() method.\n",
    "print('{0} and {1}'.format('spam', 'eggs'))"
   ]
  },
  {
   "cell_type": "code",
   "execution_count": 0,
   "metadata": {
    "colab": {
     "base_uri": "https://localhost:8080/"
    },
    "collapsed": false,
    "id": "zM8v0k_Wf0hr",
    "outputId": "9b19dcfe-f873-4947-8b8a-8caaf0ff9187"
   },
   "outputs": [
    {
     "name": "stdout",
     "output_type": "stream",
     "text": [
      "eggs and spam\n"
     ]
    }
   ],
   "source": [
    "print('{1} and {0}'.format('spam', 'eggs'))"
   ]
  },
  {
   "cell_type": "code",
   "execution_count": 0,
   "metadata": {
    "colab": {
     "base_uri": "https://localhost:8080/"
    },
    "collapsed": false,
    "id": "WTuHIy5Wf6gg",
    "outputId": "33dc1f68-d3d1-41db-8abb-82fe710cec58",
    "scrolled": true
   },
   "outputs": [
    {
     "name": "stdout",
     "output_type": "stream",
     "text": [
      "This spam is absolutely horrible.\n"
     ]
    }
   ],
   "source": [
    "# If keyword arguments are used in the str.format() method, their values are referred to by using the name of the argument.\n",
    "print('This {food} is {adjective}.'.format(food='spam', adjective='absolutely horrible'))"
   ]
  },
  {
   "cell_type": "code",
   "execution_count": 7,
   "metadata": {
    "cocalc": {
     "outputs": {
      "0": {
       "name": "input",
       "opts": {
        "password": false,
        "prompt": "Give me a verb"
       },
       "output_type": "stream",
       "value": "calling"
      },
      "1": {
       "name": "input",
       "opts": {
        "password": false,
        "prompt": "Give me an noun"
       },
       "output_type": "stream",
       "value": "potato"
      },
      "2": {
       "name": "input",
       "opts": {
        "password": false,
        "prompt": "Give me an adjective"
       },
       "output_type": "stream",
       "value": "green"
      }
     }
    },
    "collapsed": false,
    "id": "cVE5APVdfttS"
   },
   "outputs": [
    {
     "name": "stdout",
     "output_type": "stream",
     "text": "Give me a verb calling"
    },
    {
     "name": "stdout",
     "output_type": "stream",
     "text": "Give me an noun potato"
    },
    {
     "name": "stdout",
     "output_type": "stream",
     "text": "Give me an adjective green"
    },
    {
     "name": "stdout",
     "output_type": "stream",
     "text": [
      "The green potato is calling\n"
     ]
    }
   ],
   "source": [
    "'''\n",
    "your code here: experiment with string formatting\n",
    "'''\n",
    "verb = input(\"Give me a verb\")\n",
    "noun = input(\"Give me a noun\")\n",
    "adj = input(\"Give me an adjective\")\n",
    "print('The {adj} {noun} is {verb}' .format(verb=verb, noun=noun, adj=adj))"
   ]
  },
  {
   "cell_type": "markdown",
   "metadata": {
    "collapsed": false,
    "id": "HxiI3weuVF8t"
   },
   "source": [
    "## Task 1: Create the Flashcards \n",
    "In this section you should create your flashcards using a dictionary that includes each karate stance (key) and its definition (value).\n",
    "\n",
    "Experiment by using some dictionary functions and save the keys of the dictionary in a list."
   ]
  },
  {
   "cell_type": "code",
   "execution_count": 8,
   "metadata": {
    "collapsed": false,
    "id": "hTUm1rPfVF8t"
   },
   "outputs": [
    {
     "name": "stdout",
     "output_type": "stream",
     "text": [
      "{'Shezentai': 'Natural Stance', 'Choku-Zuki': 'Straight Punch', 'Oi-Zuki': 'Front Lunge Punch', 'Gyaku-Zuki': 'Reverse Punch', 'Gedan Barai': 'Down Block', 'Age-Uke': 'Rising Block'}\n"
     ]
    }
   ],
   "source": [
    "# create your flashcards with key: Karate Stance and value: description\n",
    "karate = {\"Shezentai\":\"Natural Stance\", \"Choku-Zuki\":\"Straight Punch\", \"Oi-Zuki\":\"Front Lunge Punch\", \"Gyaku-Zuki\":\"Reverse Punch\", \"Gedan Barai\":\"Down Block\", \"Age-Uke\":\"Rising Block\"}\n",
    "print(karate)"
   ]
  },
  {
   "cell_type": "code",
   "execution_count": 9,
   "metadata": {
    "collapsed": false,
    "id": "wlY-h7eVVF8u"
   },
   "outputs": [
    {
     "name": "stdout",
     "output_type": "stream",
     "text": [
      "dict_keys(['Shezentai', 'Choku-Zuki', 'Oi-Zuki', 'Gyaku-Zuki', 'Gedan Barai', 'Age-Uke'])\n"
     ]
    }
   ],
   "source": [
    "# print all the keys in your dictionary\n",
    "print(karate.keys())"
   ]
  },
  {
   "cell_type": "code",
   "execution_count": 10,
   "metadata": {
    "collapsed": false,
    "id": "PyOMxguiVF8v"
   },
   "outputs": [
    {
     "name": "stdout",
     "output_type": "stream",
     "text": [
      "['Shezentai', 'Choku-Zuki', 'Oi-Zuki', 'Gyaku-Zuki', 'Gedan Barai', 'Age-Uke']\n"
     ]
    }
   ],
   "source": [
    "#put all of the keys into a list so you have a \"deck\" of flashcards.\n",
    "Names = list(karate.keys())\n",
    "print(Names)"
   ]
  },
  {
   "cell_type": "markdown",
   "metadata": {
    "collapsed": false,
    "id": "acolMI3gVF8w"
   },
   "source": [
    "## Task 2: Shuffle the list \n",
    "\n",
    "At this point we have a \"deck\" of flashcards (a list of key values for our dictionary). Now you should do some research on how we can `shuffle()` this deck. \n",
    "\n",
    "We recommend checking out python's [`random` library](https://docs.python.org/3/library/random.html) to see how to shuffle a list! You also could google \"how to shuffle a list python\".\n",
    "\n"
   ]
  },
  {
   "cell_type": "code",
   "execution_count": 17,
   "metadata": {
    "collapsed": false,
    "id": "w-IuZlrVVF8x"
   },
   "outputs": [
    {
     "name": "stdout",
     "output_type": "stream",
     "text": [
      "['Oi-Zuki', 'Shezentai', 'Gedan Barai', 'Age-Uke', 'Choku-Zuki', 'Gyaku-Zuki']\n"
     ]
    }
   ],
   "source": [
    "# shuffle your deck of flashcards (list of keys) and print the new order!\n",
    "import random\n",
    "random.shuffle(Names)\n",
    "print(Names)"
   ]
  },
  {
   "cell_type": "markdown",
   "metadata": {
    "collapsed": false,
    "id": "EL8bZ5XLVF8z"
   },
   "source": [
    "## Task 3: Set up the game\n",
    "\n",
    "Now here is where we set up the game!\n",
    "\n",
    "* Create a variable to keep track of how many guesses user has correct\n",
    "* Create a loop that:\n",
    "\n",
    "> 1. Goes through each word in the list of keys and print this word for the user to guess.\n",
    "\n",
    "2. Asks the user to `input` their answer (you might have to look up how to get input from a user in python).\n",
    "3. Checks whether their answer is right, and adds 1 to the variable for correct guesses \n",
    "4. Goes to the next word and repeats steps 1-3.\n",
    "\n",
    "* After the loop, print how many answers the users got correct and how many they got wrong.\n",
    "\n",
    "<br>\n",
    "\n",
    "Note: For repetitive tasks in python, we usually use a `while` or a `for` loop. `While` loops continue executing code in a loop until a certain condition is met, and `for` loops typically are used for iterating across a piece of data. \n",
    "\n",
    "> DISCUSS: Discuss with your team and instructor which type of loop would be better for this case.\n",
    "\n"
   ]
  },
  {
   "cell_type": "code",
   "execution_count": 32,
   "metadata": {
    "cocalc": {
     "outputs": {
      "1": {
       "name": "input",
       "opts": {
        "password": false,
        "prompt": "enter your guess, hint is above"
       },
       "output_type": "stream",
       "value": "Natural Stance"
      },
      "10": {
       "name": "input",
       "opts": {
        "password": false,
        "prompt": "enter your guess, hint is above"
       },
       "output_type": "stream"
      },
      "11": {
       "name": "input",
       "opts": {
        "password": false,
        "prompt": "ANSWER: "
       },
       "output_type": "stream",
       "value": ""
      },
      "3": {
       "name": "input",
       "opts": {
        "password": false,
        "prompt": "enter your guess, hint is above"
       },
       "output_type": "stream",
       "value": "Reverse Punch"
      },
      "5": {
       "name": "input",
       "opts": {
        "password": false,
        "prompt": "enter your guess, hint is above"
       },
       "output_type": "stream",
       "value": "Front Lunge Punch"
      },
      "7": {
       "name": "input",
       "opts": {
        "password": false,
        "prompt": "enter your guess, hint is above"
       },
       "output_type": "stream",
       "value": "a"
      },
      "8": {
       "name": "input",
       "opts": {
        "password": false,
        "prompt": "enter your guess, hint is above"
       },
       "output_type": "stream"
      },
      "9": {
       "name": "input",
       "opts": {
        "password": false,
        "prompt": "ANSWER: "
       },
       "output_type": "stream",
       "value": ""
      }
     }
    },
    "collapsed": false,
    "id": "LAIfkxd4VF80"
   },
   "outputs": [
    {
     "name": "stdout",
     "output_type": "stream",
     "text": [
      "['Front Lunge Punch', 'Rising Block', 'Reverse Punch', 'Down Block', 'Straight Punch', 'Natural Stance']\n",
      "Shezentai\n"
     ]
    },
    {
     "name": "stdout",
     "output_type": "stream",
     "text": "enter your guess, hint is above Natural Stance"
    },
    {
     "name": "stdout",
     "output_type": "stream",
     "text": [
      "you got it right\n",
      "\n",
      "Choku-Zuki\n"
     ]
    },
    {
     "name": "stdout",
     "output_type": "stream",
     "text": "enter your guess, hint is above Reverse Punch"
    },
    {
     "name": "stdout",
     "output_type": "stream",
     "text": [
      "wrong, the answer is Straight Punch\n",
      "\n",
      "Oi-Zuki\n"
     ]
    },
    {
     "name": "stdout",
     "output_type": "stream",
     "text": "enter your guess, hint is above Front Lunge Punch"
    },
    {
     "name": "stdout",
     "output_type": "stream",
     "text": [
      "you got it right\n",
      "\n",
      "Gyaku-Zuki\n"
     ]
    },
    {
     "name": "stdout",
     "output_type": "stream",
     "text": "enter your guess, hint is above a"
    },
    {
     "name": "stdout",
     "output_type": "stream",
     "text": "enter your guess, hint is above "
    },
    {
     "name": "stdout",
     "output_type": "stream",
     "text": "ANSWER:  "
    },
    {
     "name": "stdout",
     "output_type": "stream",
     "text": "enter your guess, hint is above "
    },
    {
     "name": "stdout",
     "output_type": "stream",
     "text": "ANSWER:  "
    },
    {
     "name": "stdout",
     "output_type": "stream",
     "text": [
      "wrong, the answer is Rising Block\n",
      "\n",
      "number correct: 2\n"
     ]
    }
   ],
   "source": [
    "Stances = list(karate.values())\n",
    "import random\n",
    "random.shuffle(Stances)\n",
    "#Set variable for correct guesses\n",
    "counter = 0\n",
    "print(Stances)\n",
    "#Create a loop that iterates through the list of keys\n",
    "for key, value in karate.items():\n",
    "    print(key)\n",
    "    guess = input('enter your guess, hint is above')\n",
    "    if value == guess:\n",
    "        print('you got it right')\n",
    "        counter += 1\n",
    "    else:\n",
    "        print('wrong, the answer is', value)\n",
    "    print(''*25)\n",
    "print('number correct:', counter)\n",
    "    #inside loop: print the word for the user to guess the description of and get the user's guess for it's description.\n",
    "\n",
    "\n",
    "    #print the actual description of the word.\n",
    "\n",
    "\n",
    "    #if the user is correct, let them know and add 1 point to their correct guesses.\n",
    "\n",
    "    #otherwise, let the user know they are wrong and don't add any points to their correct guesses \n",
    "\n",
    "    #after each round print a line separator by uncommenting the following line\n",
    "    # print('_'*25)   \n",
    "\n",
    "# tell the user how many they had correct out of total"
   ]
  },
  {
   "cell_type": "markdown",
   "metadata": {
    "collapsed": false,
    "id": "mYVCZ2RKVF80"
   },
   "source": [
    "## Task 4: Put everything together. \n",
    "\n",
    "Create an outer loop to ask the user if they want to play the game. If the answer is yes, keep running the program. Keep doing this until they enter something other than yes. \n",
    "\n",
    "Consolidate all of your other code inside of this loop!\n",
    "\n"
   ]
  },
  {
   "cell_type": "code",
   "execution_count": 36,
   "metadata": {
    "cocalc": {
     "outputs": {
      "0": {
       "name": "input",
       "opts": {
        "password": false,
        "prompt": "Do you want to play a game?"
       },
       "output_type": "stream",
       "value": "yes"
      },
      "10": {
       "name": "input",
       "opts": {
        "password": false,
        "prompt": "enter your guess, hint is above"
       },
       "output_type": "stream",
       "value": "a"
      },
      "11": {
       "name": "input",
       "opts": {
        "password": false,
        "prompt": "enter your guess, hint is above"
       },
       "output_type": "stream"
      },
      "12": {
       "name": "input",
       "opts": {
        "password": false,
        "prompt": "ANSWER: "
       },
       "output_type": "stream",
       "value": "f"
      },
      "14": {
       "name": "input",
       "opts": {
        "password": false,
        "prompt": "Do you want to play again?"
       },
       "output_type": "stream",
       "value": "no"
      },
      "2": {
       "name": "input",
       "opts": {
        "password": false,
        "prompt": "enter your guess, hint is above"
       },
       "output_type": "stream",
       "value": "Natural Stance"
      },
      "4": {
       "name": "input",
       "opts": {
        "password": false,
        "prompt": "enter your guess, hint is above"
       },
       "output_type": "stream",
       "value": "Straight Punch"
      },
      "6": {
       "name": "input",
       "opts": {
        "password": false,
        "prompt": "enter your guess, hint is above"
       },
       "output_type": "stream",
       "value": "a"
      },
      "8": {
       "name": "input",
       "opts": {
        "password": false,
        "prompt": "enter your guess, hint is above"
       },
       "output_type": "stream",
       "value": "a"
      }
     }
    },
    "collapsed": false,
    "id": "unJkdlnQVF81"
   },
   "outputs": [
    {
     "name": "stdout",
     "output_type": "stream",
     "text": "Do you want to play a game? yes"
    },
    {
     "name": "stdout",
     "output_type": "stream",
     "text": [
      "['Front Lunge Punch', 'Down Block', 'Straight Punch', 'Natural Stance', 'Rising Block', 'Reverse Punch']\n",
      "Shezentai\n"
     ]
    },
    {
     "name": "stdout",
     "output_type": "stream",
     "text": "enter your guess, hint is above Natural Stance"
    },
    {
     "name": "stdout",
     "output_type": "stream",
     "text": [
      "you got it right\n",
      "\n",
      "Choku-Zuki\n"
     ]
    },
    {
     "name": "stdout",
     "output_type": "stream",
     "text": "enter your guess, hint is above Straight Punch"
    },
    {
     "name": "stdout",
     "output_type": "stream",
     "text": [
      "you got it right\n",
      "\n",
      "Oi-Zuki\n"
     ]
    },
    {
     "name": "stdout",
     "output_type": "stream",
     "text": "enter your guess, hint is above a"
    },
    {
     "name": "stdout",
     "output_type": "stream",
     "text": [
      "wrong, the answer is Front Lunge Punch\n",
      "\n",
      "Gyaku-Zuki\n"
     ]
    },
    {
     "name": "stdout",
     "output_type": "stream",
     "text": "enter your guess, hint is above a"
    },
    {
     "name": "stdout",
     "output_type": "stream",
     "text": [
      "wrong, the answer is Reverse Punch\n",
      "\n",
      "Gedan Barai\n"
     ]
    },
    {
     "name": "stdout",
     "output_type": "stream",
     "text": "enter your guess, hint is above a"
    },
    {
     "name": "stdout",
     "output_type": "stream",
     "text": "enter your guess, hint is above "
    },
    {
     "name": "stdout",
     "output_type": "stream",
     "text": "ANSWER:  f"
    },
    {
     "name": "stdout",
     "output_type": "stream",
     "text": [
      "wrong, the answer is Rising Block\n",
      "\n",
      "number correct: 2\n"
     ]
    },
    {
     "name": "stdout",
     "output_type": "stream",
     "text": "Do you want to play again? no"
    },
    {
     "name": "stdout",
     "output_type": "stream",
     "text": [
      "Thanks for playing!\n"
     ]
    }
   ],
   "source": [
    "# imports\n",
    "yn=input('Do you want to play a game?')\n",
    "while \"yes\"==yn:\n",
    "    Stances = list(karate.values())\n",
    "    import random\n",
    "    random.shuffle(Stances)\n",
    "    counter = 0\n",
    "    print(Stances)\n",
    "    for key, value in karate.items():\n",
    "        print(key)\n",
    "        guess = input('enter your guess, hint is above')\n",
    "        if value == guess:\n",
    "            print('you got it right')\n",
    "            counter += 1\n",
    "        else:\n",
    "            print('wrong, the answer is', value)\n",
    "        print(''*25)\n",
    "    print('number correct:', counter)\n",
    "    yn=input('Do you want to play again?')\n",
    "print('Thanks for playing!')\n",
    "#ask user if they want to play\n",
    "\n",
    "#if the user's answer is yes or still yes, play the game again\n",
    "\n",
    "    # create dictionary of key/pairs (copy code from task 1)\n",
    "\n",
    "    #turns dictionary keys into a list (copy code from task 1)\n",
    "\n",
    "    #shuffle list (copy code from task 2)\n",
    "\n",
    "    #play a round of the game (copy code from task 3)\n",
    "\n",
    "    # final score\n",
    "\n",
    "    # ask user to play again and get their input. If they say yes, play again. Otherwise, exit the loop!\n",
    "\n",
    "\n",
    "#When the user is done playing, tell them thanks with a print statement below!"
   ]
  },
  {
   "cell_type": "code",
   "execution_count": 0,
   "metadata": {
    "collapsed": false
   },
   "outputs": [
   ],
   "source": [
   ]
  }
 ],
 "metadata": {
  "colab": {
   "collapsed_sections": [
    "acolMI3gVF8w",
    "EL8bZ5XLVF8z"
   ],
   "name": "FlashKarate!.ipynb",
   "provenance": [
   ]
  },
  "kernelspec": {
   "display_name": "Python 3 (Ubuntu Linux)",
   "language": "python",
   "name": "python3-ubuntu",
   "resource_dir": "/usr/local/share/jupyter/kernels/python3-ubuntu"
  },
  "language_info": {
   "codemirror_mode": {
    "name": "ipython",
    "version": 3
   },
   "file_extension": ".py",
   "mimetype": "text/x-python",
   "name": "python",
   "nbconvert_exporter": "python",
   "pygments_lexer": "ipython3",
   "version": "3.8.10"
  }
 },
 "nbformat": 4,
 "nbformat_minor": 4
}