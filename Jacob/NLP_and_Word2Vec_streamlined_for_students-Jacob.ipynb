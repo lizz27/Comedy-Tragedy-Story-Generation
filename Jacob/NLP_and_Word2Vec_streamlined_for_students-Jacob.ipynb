{
 "cells": [
  {
   "cell_type": "markdown",
   "metadata": {
    "collapsed": false
   },
   "source": [
    "# Natural Language Processing using NLTK"
   ]
  },
  {
   "cell_type": "markdown",
   "metadata": {
    "collapsed": false
   },
   "source": [
   ]
  },
  {
   "cell_type": "code",
   "execution_count": 22,
   "metadata": {
    "collapsed": false
   },
   "outputs": [
    {
     "name": "stdout",
     "output_type": "stream",
     "text": [
      "Requirement already satisfied: nltk in /projects/6a848d56-5da1-43fb-bfc9-9172977ceeb4/.local/lib/python3.8/site-packages (3.7)\r\n"
     ]
    },
    {
     "name": "stdout",
     "output_type": "stream",
     "text": [
      "Requirement already satisfied: joblib in /usr/local/lib/python3.8/dist-packages (from nltk) (1.1.0)\r\n",
      "Requirement already satisfied: click in /projects/6a848d56-5da1-43fb-bfc9-9172977ceeb4/.local/lib/python3.8/site-packages (from nltk) (8.1.3)\r\n",
      "Requirement already satisfied: tqdm in /projects/6a848d56-5da1-43fb-bfc9-9172977ceeb4/.local/lib/python3.8/site-packages (from nltk) (4.64.0)\r\n",
      "Requirement already satisfied: regex>=2021.8.3 in /projects/6a848d56-5da1-43fb-bfc9-9172977ceeb4/.local/lib/python3.8/site-packages (from nltk) (2022.6.2)\r\n"
     ]
    }
   ],
   "source": [
    "!pip install nltk"
   ]
  },
  {
   "cell_type": "code",
   "execution_count": 1,
   "metadata": {
    "collapsed": false
   },
   "outputs": [
    {
     "name": "stderr",
     "output_type": "stream",
     "text": [
      "[nltk_data] Downloading package wordnet to\n",
      "[nltk_data]     /projects/6a848d56-5da1-43fb-\n",
      "[nltk_data]     bfc9-9172977ceeb4/nltk_data...\n",
      "[nltk_data]   Package wordnet is already up-to-date!\n",
      "[nltk_data] Downloading package punkt to /projects/6a848d56-5da1-43fb-\n",
      "[nltk_data]     bfc9-9172977ceeb4/nltk_data...\n",
      "[nltk_data]   Package punkt is already up-to-date!\n"
     ]
    },
    {
     "data": {
      "text/plain": [
       "True"
      ]
     },
     "execution_count": 1,
     "metadata": {
     },
     "output_type": "execute_result"
    }
   ],
   "source": [
    "# Install NLTK - pip install nltk\n",
    "import nltk\n",
    "nltk.download('wordnet')\n",
    "nltk.download('punkt')"
   ]
  },
  {
   "cell_type": "markdown",
   "metadata": {
    "collapsed": false
   },
   "source": [
    "## NLP Part 0 - Get some Data!\n",
    "\n",
    "This section's code is mostly given to you as a review for how you can scrape and manipulate data from the web. "
   ]
  },
  {
   "cell_type": "code",
   "execution_count": 4,
   "metadata": {
    "collapsed": false
   },
   "outputs": [
   ],
   "source": [
    "import urllib\n",
    "import bs4 as bs\n",
    "import re"
   ]
  },
  {
   "cell_type": "code",
   "execution_count": 6,
   "metadata": {
    "collapsed": false
   },
   "outputs": [
   ],
   "source": [
    "# We will read the contents of the Wikipedia article \"Global_warming\" as an example, please feel free to use your own! You can use the url below:\n",
    "url = 'https://en.wikipedia.org/wiki/Global_warming' # you can change this to use other sites as well.\n",
    "\n",
    "# We can open the page using \"urllib.request.urlopen\" then read it using \".read()\"\n",
    "source = urllib.request.urlopen(url).read()\n",
    "\n",
    "# Beautiful Soup is a Python library for pulling data out of HTML and XML files.\n",
    "# you may need to install a parser library --> \"!pip3 install lxml\"\n",
    "# Parsing the data/creating BeautifulSoup object\n",
    "\n",
    "soup = bs.BeautifulSoup(source,\"html.parser\") \n",
    "\n",
    "# Fetching the data\n",
    "text = \"\"\n",
    "for paragraph in soup.find_all('p'): #The <p> tag defines a paragraph in the webpages\n",
    "    text += paragraph.text\n",
    "\n",
    "# Preprocessing the data\n",
    "\n",
    "text = re.sub(r'\\[[0-9]*\\]',' ',text) # [0-9]* --> Matches zero or more repetitions of any digit from 0 to 9\n",
    "text = text.lower() #everything to lowercase\n",
    "text = re.sub(r'\\W^.?!',' ',text) # \\W --> Matches any character which is not a word character except (.?!)\n",
    "text = re.sub(r'\\d',' ',text) # \\d --> Matches any decimal digit\n",
    "text = re.sub(r'\\s+',' ',text) # \\s --> Matches any characters that are considered whitespace (Ex: [\\t\\n\\r\\f\\v].)"
   ]
  },
  {
   "cell_type": "code",
   "execution_count": 7,
   "metadata": {
    "collapsed": false
   },
   "outputs": [
    {
     "data": {
      "text/plain": [
       "\" contemporary climate change includes both global warming and its impacts on earth's weather pattern\""
      ]
     },
     "execution_count": 7,
     "metadata": {
     },
     "output_type": "execute_result"
    }
   ],
   "source": [
    "text[:100]"
   ]
  },
  {
   "cell_type": "markdown",
   "metadata": {
    "collapsed": false
   },
   "source": [
    "## NLP Part 1 - Tokenization of paragraphs/sentences\n",
    "\n",
    "In this section we are going to tokenize our sentences and words. If you aren't familiar with tokenization, we recommend looking up \"what is tokenization\". \n",
    "\n",
    "You should also spend time on the [NLTK documentation](https://www.nltk.org/). If you're not sure how to do something, or get an error, it is best to google it first and ask questions as you go!\n",
    "\n"
   ]
  },
  {
   "cell_type": "code",
   "execution_count": 15,
   "metadata": {
    "collapsed": false
   },
   "outputs": [
    {
     "ename": "NameError",
     "evalue": "name 'nltk' is not defined",
     "output_type": "error",
     "traceback": [
      "\u001b[0;31m---------------------------------------------------------------------------\u001b[0m",
      "\u001b[0;31mNameError\u001b[0m                                 Traceback (most recent call last)",
      "\u001b[0;32m<ipython-input-15-ea336ff03cc7>\u001b[0m in \u001b[0;36m<module>\u001b[0;34m\u001b[0m\n\u001b[1;32m      4\u001b[0m '''\n\u001b[1;32m      5\u001b[0m \u001b[0;34m\u001b[0m\u001b[0m\n\u001b[0;32m----> 6\u001b[0;31m \u001b[0mwords\u001b[0m\u001b[0;34m=\u001b[0m \u001b[0mnltk\u001b[0m\u001b[0;34m.\u001b[0m\u001b[0mword_tokenize\u001b[0m\u001b[0;34m(\u001b[0m\u001b[0mtext\u001b[0m\u001b[0;34m)\u001b[0m\u001b[0;34m\u001b[0m\u001b[0;34m\u001b[0m\u001b[0m\n\u001b[0m",
      "\u001b[0;31mNameError\u001b[0m: name 'nltk' is not defined"
     ]
    }
   ],
   "source": [
    "'''\n",
    "Your code here: Tokenize the words from the data and set it to a variable called words.\n",
    "Hint: how to this might be on the very home page of NLTK!\n",
    "'''\n",
    "\n",
    "words= nltk.word_tokenize(text)"
   ]
  },
  {
   "cell_type": "code",
   "execution_count": 16,
   "metadata": {
    "collapsed": false
   },
   "outputs": [
    {
     "ename": "NameError",
     "evalue": "name 'words' is not defined",
     "output_type": "error",
     "traceback": [
      "\u001b[0;31m---------------------------------------------------------------------------\u001b[0m",
      "\u001b[0;31mNameError\u001b[0m                                 Traceback (most recent call last)",
      "\u001b[0;32m<ipython-input-16-df2ccda859ae>\u001b[0m in \u001b[0;36m<module>\u001b[0;34m\u001b[0m\n\u001b[0;32m----> 1\u001b[0;31m \u001b[0mprint\u001b[0m\u001b[0;34m(\u001b[0m\u001b[0mwords\u001b[0m\u001b[0;34m[\u001b[0m\u001b[0;34m:\u001b[0m\u001b[0;36m10\u001b[0m\u001b[0;34m]\u001b[0m\u001b[0;34m)\u001b[0m\u001b[0;34m\u001b[0m\u001b[0;34m\u001b[0m\u001b[0m\n\u001b[0m",
      "\u001b[0;31mNameError\u001b[0m: name 'words' is not defined"
     ]
    }
   ],
   "source": [
    "print(words[:10])"
   ]
  },
  {
   "cell_type": "code",
   "execution_count": 12,
   "metadata": {
    "collapsed": false
   },
   "outputs": [
    {
     "ename": "NameError",
     "evalue": "name 'nltk' is not defined",
     "output_type": "error",
     "traceback": [
      "\u001b[0;31m---------------------------------------------------------------------------\u001b[0m",
      "\u001b[0;31mNameError\u001b[0m                                 Traceback (most recent call last)",
      "\u001b[0;32m<ipython-input-12-c96c47229ba7>\u001b[0m in \u001b[0;36m<module>\u001b[0;34m\u001b[0m\n\u001b[1;32m      3\u001b[0m \u001b[0mHint\u001b[0m\u001b[0;34m:\u001b[0m \u001b[0;32mtry\u001b[0m \u001b[0mgoogling\u001b[0m \u001b[0mhow\u001b[0m \u001b[0mto\u001b[0m \u001b[0mtokenize\u001b[0m \u001b[0msentences\u001b[0m \u001b[0;32min\u001b[0m \u001b[0mNLTK\u001b[0m\u001b[0;31m!\u001b[0m\u001b[0;34m\u001b[0m\u001b[0;34m\u001b[0m\u001b[0m\n\u001b[1;32m      4\u001b[0m '''\n\u001b[0;32m----> 5\u001b[0;31m \u001b[0msentences\u001b[0m \u001b[0;34m=\u001b[0m \u001b[0mnltk\u001b[0m\u001b[0;34m.\u001b[0m\u001b[0msent_tokenize\u001b[0m\u001b[0;34m(\u001b[0m\u001b[0msentence\u001b[0m\u001b[0;34m)\u001b[0m\u001b[0;34m\u001b[0m\u001b[0;34m\u001b[0m\u001b[0m\n\u001b[0m",
      "\u001b[0;31mNameError\u001b[0m: name 'nltk' is not defined"
     ]
    }
   ],
   "source": [
    "'''\n",
    "Your code here: Tokenize the sentences from the data  and set it to a variable called sentences.\n",
    "Hint: try googling how to tokenize sentences in NLTK!\n",
    "'''\n",
    "sentences = nltk.sent_tokenize(sentence)"
   ]
  },
  {
   "cell_type": "code",
   "execution_count": 11,
   "metadata": {
    "collapsed": false
   },
   "outputs": [
    {
     "ename": "NameError",
     "evalue": "name 'sentences' is not defined",
     "output_type": "error",
     "traceback": [
      "\u001b[0;31m---------------------------------------------------------------------------\u001b[0m",
      "\u001b[0;31mNameError\u001b[0m                                 Traceback (most recent call last)",
      "\u001b[0;32m<ipython-input-11-1273334d6a13>\u001b[0m in \u001b[0;36m<module>\u001b[0;34m\u001b[0m\n\u001b[0;32m----> 1\u001b[0;31m \u001b[0mprint\u001b[0m\u001b[0;34m(\u001b[0m\u001b[0msentences\u001b[0m\u001b[0;34m[\u001b[0m\u001b[0;34m:\u001b[0m\u001b[0;36m10\u001b[0m\u001b[0;34m]\u001b[0m\u001b[0;34m)\u001b[0m\u001b[0;34m\u001b[0m\u001b[0;34m\u001b[0m\u001b[0m\n\u001b[0m",
      "\u001b[0;31mNameError\u001b[0m: name 'sentences' is not defined"
     ]
    }
   ],
   "source": [
    "print(sentences[:10])"
   ]
  },
  {
   "cell_type": "markdown",
   "metadata": {
    "collapsed": false
   },
   "source": [
    "## NLP Part 2 - Stopwords and Punctuation\n",
    "Now we are going to work to remove stopwords and punctuation from our data. Why do you think we are going to do this? Do some research if you don't know yet. "
   ]
  },
  {
   "cell_type": "code",
   "execution_count": 10,
   "metadata": {
    "collapsed": false
   },
   "outputs": [
    {
     "ename": "NameError",
     "evalue": "name 'nltk' is not defined",
     "output_type": "error",
     "traceback": [
      "\u001b[0;31m---------------------------------------------------------------------------\u001b[0m",
      "\u001b[0;31mNameError\u001b[0m                                 Traceback (most recent call last)",
      "\u001b[0;32m<ipython-input-10-c8c40704c760>\u001b[0m in \u001b[0;36m<module>\u001b[0;34m\u001b[0m\n\u001b[0;32m----> 1\u001b[0;31m \u001b[0mnltk\u001b[0m\u001b[0;34m.\u001b[0m\u001b[0mdownload\u001b[0m\u001b[0;34m(\u001b[0m\u001b[0;34m'stopwords'\u001b[0m\u001b[0;34m)\u001b[0m\u001b[0;34m\u001b[0m\u001b[0;34m\u001b[0m\u001b[0m\n\u001b[0m\u001b[1;32m      2\u001b[0m \u001b[0;32mfrom\u001b[0m \u001b[0mnltk\u001b[0m\u001b[0;34m.\u001b[0m\u001b[0mcorpus\u001b[0m \u001b[0;32mimport\u001b[0m \u001b[0mstopwords\u001b[0m\u001b[0;34m\u001b[0m\u001b[0;34m\u001b[0m\u001b[0m\n",
      "\u001b[0;31mNameError\u001b[0m: name 'nltk' is not defined"
     ]
    }
   ],
   "source": [
    "nltk.download('stopwords')\n",
    "from nltk.corpus import stopwords"
   ]
  },
  {
   "cell_type": "code",
   "execution_count": 0,
   "metadata": {
    "collapsed": false
   },
   "outputs": [
   ],
   "source": [
   ]
  },
  {
   "cell_type": "code",
   "execution_count": 14,
   "metadata": {
    "collapsed": false,
    "scrolled": true
   },
   "outputs": [
    {
     "ename": "SyntaxError",
     "evalue": "cannot assign to function call (<ipython-input-14-5e1d93b4bf99>, line 15)",
     "output_type": "error",
     "traceback": [
      "\u001b[0;36m  File \u001b[0;32m\"<ipython-input-14-5e1d93b4bf99>\"\u001b[0;36m, line \u001b[0;32m15\u001b[0m\n\u001b[0;31m    sentence(i) = ' '.join(words)\u001b[0m\n\u001b[0m    ^\u001b[0m\n\u001b[0;31mSyntaxError\u001b[0m\u001b[0;31m:\u001b[0m cannot assign to function call\n"
     ]
    }
   ],
   "source": [
    "'''\n",
    "define a function called \"remove_stopwords\" that takes in a list of the sentences of the text and returns one that doesn't have any stopwords.\n",
    "'''\n",
    "def remove_stopwords(sentences):\n",
    "    \n",
    "    ### Some code goes here. Hint: You may have to look up how to remove stopwords in NLTK if you get stuck. ###\n",
    "    for i in range(len(sentences)):\n",
    "        #i = position of each sentenct; i is a number\n",
    "        \n",
    "        word_list = nltk.word_tokenize(sentences(i))\n",
    "        for word in word_list:\n",
    "            if word not in stopwords.words('english'):\n",
    "                words.append(word)\n",
    "    \n",
    "        sentence(i) = ' '.join(words)\n",
    "    \n",
    "    \n",
    "    return sentences\n",
    "\n",
    "###Then actually apply your function###\n",
    "sentences = remove_stopwords(sentences)\n",
    "print(sentences[:10]) #Check if it worked correctly. Are all stopwords removed?"
   ]
  },
  {
   "cell_type": "code",
   "execution_count": 0,
   "metadata": {
    "collapsed": false
   },
   "outputs": [
   ],
   "source": [
    "'''\n",
    "define a function called \"remove_punctuation\" that removes punctuation from the sentences.\n",
    "'''\n",
    "def remove_punctuation(sentences):\n",
    "    \n",
    "    ### Some code goes here. Hint: Try looking up how to remove stopwords in NLTK if you get stuck. ###\n",
    "    \n",
    "    return sentences\n",
    "sentences = remove_punctuation(sentences)\n",
    "print(sentences[:10]) #eliminating all punctuation."
   ]
  },
  {
   "cell_type": "markdown",
   "metadata": {
    "collapsed": false
   },
   "source": [
    "## NLP Part 3a - Stemming the words\n",
    "Stemming is the process of reducing inflected (or sometimes derived) words to their word stem, base or root form. There is an example below!"
   ]
  },
  {
   "cell_type": "code",
   "execution_count": 17,
   "metadata": {
    "collapsed": false
   },
   "outputs": [
    {
     "ename": "ModuleNotFoundError",
     "evalue": "No module named 'nltk'",
     "output_type": "error",
     "traceback": [
      "\u001b[0;31m---------------------------------------------------------------------------\u001b[0m",
      "\u001b[0;31mModuleNotFoundError\u001b[0m                       Traceback (most recent call last)",
      "\u001b[0;32m<ipython-input-17-150b837087f4>\u001b[0m in \u001b[0;36m<module>\u001b[0;34m\u001b[0m\n\u001b[0;32m----> 1\u001b[0;31m \u001b[0;32mfrom\u001b[0m \u001b[0mnltk\u001b[0m\u001b[0;34m.\u001b[0m\u001b[0mstem\u001b[0m \u001b[0;32mimport\u001b[0m \u001b[0mPorterStemmer\u001b[0m\u001b[0;34m\u001b[0m\u001b[0;34m\u001b[0m\u001b[0m\n\u001b[0m\u001b[1;32m      2\u001b[0m \u001b[0;34m\u001b[0m\u001b[0m\n\u001b[1;32m      3\u001b[0m \u001b[0mstemmer\u001b[0m \u001b[0;34m=\u001b[0m \u001b[0mPorterStemmer\u001b[0m\u001b[0;34m(\u001b[0m\u001b[0;34m)\u001b[0m\u001b[0;34m\u001b[0m\u001b[0;34m\u001b[0m\u001b[0m\n\u001b[1;32m      4\u001b[0m \u001b[0;31m# try each of the words below\u001b[0m\u001b[0;34m\u001b[0m\u001b[0;34m\u001b[0m\u001b[0;34m\u001b[0m\u001b[0m\n\u001b[1;32m      5\u001b[0m \u001b[0mstemmer\u001b[0m\u001b[0;34m.\u001b[0m\u001b[0mstem\u001b[0m\u001b[0;34m(\u001b[0m\u001b[0;34m'troubled'\u001b[0m\u001b[0;34m)\u001b[0m\u001b[0;34m\u001b[0m\u001b[0;34m\u001b[0m\u001b[0m\n",
      "\u001b[0;31mModuleNotFoundError\u001b[0m: No module named 'nltk'"
     ]
    }
   ],
   "source": [
    "from nltk.stem import PorterStemmer\n",
    "\n",
    "stemmer = PorterStemmer()\n",
    "# try each of the words below\n",
    "stemmer.stem('troubled')\n",
    "#stemmer.stem('trouble')\n",
    "#stemmer.stem('troubling')\n",
    "#stemmer.stem('troubles')"
   ]
  },
  {
   "cell_type": "code",
   "execution_count": 0,
   "metadata": {
    "collapsed": false
   },
   "outputs": [
   ],
   "source": [
    "'''\n",
    "Your code here:\n",
    "Define a function called \"stem_sentences\" that takes in a list of sentences and returns a list of stemmed sentences.\n",
    "'''\n",
    "def stem_sentences(sentences):\n",
    "    ### Some code goes here. Hint: Try looking up how to stem words in NLTK if you get stuck (or simply use the example above and run stemmer in a loop!). ###\n"
   ]
  },
  {
   "cell_type": "code",
   "execution_count": 0,
   "metadata": {
    "collapsed": false
   },
   "outputs": [
   ],
   "source": [
    "\n",
    "print(stemmed_sentences[:10])"
   ]
  },
  {
   "cell_type": "markdown",
   "metadata": {
    "collapsed": false
   },
   "source": [
    "## NLP Part 3b - Lemmatization\n",
    "Lemmatization considers the context and converts the word to its meaningful base form. There is a cool tutorial and definition of lemmatization in NLTK [here](https://www.geeksforgeeks.org/python-lemmatization-with-nltk/)."
   ]
  },
  {
   "cell_type": "code",
   "execution_count": 15,
   "metadata": {
    "collapsed": false
   },
   "outputs": [
    {
     "ename": "SyntaxError",
     "evalue": "invalid syntax (<ipython-input-15-cb33241d4f67>, line 1)",
     "output_type": "error",
     "traceback": [
      "\u001b[0;36m  File \u001b[0;32m\"<ipython-input-15-cb33241d4f67>\"\u001b[0;36m, line \u001b[0;32m1\u001b[0m\n\u001b[0;31m    pip install ntlk\u001b[0m\n\u001b[0m        ^\u001b[0m\n\u001b[0;31mSyntaxError\u001b[0m\u001b[0;31m:\u001b[0m invalid syntax\n"
     ]
    }
   ],
   "source": [
    "from nltk.stem import WordNetLemmatizer\n",
    "    \n",
    "## Step 1: Import the lemmatizer\n",
    "lemmatizer = WordNetLemmatizer()\n",
    "\n",
    "'''\n",
    "Your code here: Define a function called \"lem_sentences\" that: loops through the sentences, split the sentences up by words and applies \"lemmatizer.lemmatize\" to each word and then join everything back into a sentence\n",
    "'''\n",
    "##Similar to stopwords: For loop through the sentences, split by words and apply \"lemmatizer.lemmatize\" to each word and join back into a sentence\n",
    "def lem_sentences(sentences):\n",
    "\n",
    "    return sentences\n",
    "sentences = lem_sentences(sentences)\n",
    "print(sentences[:10]) "
   ]
  },
  {
   "cell_type": "code",
   "execution_count": 0,
   "metadata": {
    "collapsed": false
   },
   "outputs": [
   ],
   "source": [
    "print(sentences[:10]) "
   ]
  },
  {
   "cell_type": "markdown",
   "metadata": {
    "collapsed": false
   },
   "source": [
    "## NLP Part 4 - POS Tagging\n",
    "Parts of speech tagging is marking up a word in a text as corresponding to a particular part of speech, based on both its definition and its context."
   ]
  },
  {
   "cell_type": "code",
   "execution_count": 16,
   "metadata": {
    "collapsed": false
   },
   "outputs": [
    {
     "ename": "NameError",
     "evalue": "name 'nltk' is not defined",
     "output_type": "error",
     "traceback": [
      "\u001b[0;31m---------------------------------------------------------------------------\u001b[0m",
      "\u001b[0;31mNameError\u001b[0m                                 Traceback (most recent call last)",
      "\u001b[0;32m<ipython-input-16-211383f0863c>\u001b[0m in \u001b[0;36m<module>\u001b[0;34m\u001b[0m\n\u001b[0;32m----> 1\u001b[0;31m \u001b[0mnltk\u001b[0m\u001b[0;34m.\u001b[0m\u001b[0mdownload\u001b[0m\u001b[0;34m(\u001b[0m\u001b[0;34m'averaged_perceptron_tagger'\u001b[0m\u001b[0;34m)\u001b[0m\u001b[0;34m\u001b[0m\u001b[0;34m\u001b[0m\u001b[0m\n\u001b[0m",
      "\u001b[0;31mNameError\u001b[0m: name 'nltk' is not defined"
     ]
    }
   ],
   "source": [
    "nltk.download('averaged_perceptron_tagger')"
   ]
  },
  {
   "cell_type": "code",
   "execution_count": 17,
   "metadata": {
    "collapsed": false
   },
   "outputs": [
    {
     "ename": "SyntaxError",
     "evalue": "invalid syntax (<ipython-input-17-dc9ff7b84e82>, line 19)",
     "output_type": "error",
     "traceback": [
      "\u001b[0;36m  File \u001b[0;32m\"<ipython-input-17-dc9ff7b84e82>\"\u001b[0;36m, line \u001b[0;32m19\u001b[0m\n\u001b[0;31m    tagged_paragraph[*1000]\u001b[0m\n\u001b[0m                     ^\u001b[0m\n\u001b[0;31mSyntaxError\u001b[0m\u001b[0;31m:\u001b[0m invalid syntax\n"
     ]
    }
   ],
   "source": [
    "# POS Tagging example\n",
    "# CC - coordinating conjunction\n",
    "# NN - noun, singular (cat, tree)\n",
    "all_words = nltk.word_tokenize(text)  ###If we want to look at part of speech taking before we stem/lem\n",
    "\n",
    "tagged_words = nltk.pos_tag(all_words)\n",
    "##Creates a list of lists where each element of the list is [word,partofspeech abbreviation]\n",
    "\n",
    "# Tagged word paragraph\n",
    "word_tags = []\n",
    "for tw in tagged_words:\n",
    "    word_tags.append(tw[0]+\"_\"+tw[1])\n",
    "\n",
    "tagged_paragraph = ' '.join(word_tags)\n",
    "\n",
    "'''\n",
    "Your code here: print the first 1000 characters of tagged_paragraph.\n",
    "'''\n",
    "tagged_paragraph[1000]"
   ]
  },
  {
   "cell_type": "markdown",
   "metadata": {
    "collapsed": false
   },
   "source": [
    "# Word2Vec Model Visualization\n",
    "\n"
   ]
  },
  {
   "cell_type": "code",
   "execution_count": 0,
   "metadata": {
    "collapsed": false
   },
   "outputs": [
   ],
   "source": [
   ]
  },
  {
   "cell_type": "code",
   "execution_count": 4,
   "metadata": {
    "collapsed": false
   },
   "outputs": [
    {
     "name": "stdout",
     "output_type": "stream",
     "text": [
      "Collecting gensim\r\n",
      "  Downloading gensim-4.2.0-cp38-cp38-manylinux_2_12_x86_64.manylinux2010_x86_64.whl (24.1 MB)\r\n",
      "\u001b[?25l\r\u001b[K     |                                | 10 kB 11.8 MB/s eta 0:00:03\r\u001b[K     |                                | 20 kB 15.9 MB/s eta 0:00:02\r\u001b[K     |                                | 30 kB 20.0 MB/s eta 0:00:02\r\u001b[K     |                                | 40 kB 23.5 MB/s eta 0:00:02\r\u001b[K     |                                | 51 kB 21.6 MB/s eta 0:00:02\r\u001b[K     |                                | 61 kB 22.7 MB/s eta 0:00:02\r\u001b[K     |                                | 71 kB 25.1 MB/s eta 0:00:01\r\u001b[K     |                                | 81 kB 27.3 MB/s eta 0:00:01\r\u001b[K     |▏                               | 92 kB 28.5 MB/s eta 0:00:01\r\u001b[K     |▏                               | 102 kB 30.7 MB/s eta 0:00:01\r\u001b[K     |▏                               | 112 kB 30.7 MB/s eta 0:00:01\r\u001b[K     |▏                               | 122 kB 30.7 MB/s eta 0:00:01\r\u001b[K     |▏                               | 133 kB 30.7 MB/s eta 0:00:01\r\u001b[K     |▏                               | 143 kB 30.7 MB/s eta 0:00:01\r\u001b[K     |▏                               | 153 kB 30.7 MB/s eta 0:00:01\r\u001b[K     |▏                               | 163 kB 30.7 MB/s eta 0:00:01\r\u001b[K     |▎                               | 174 kB 30.7 MB/s eta 0:00:01\r\u001b[K     |▎                               | 184 kB 30.7 MB/s eta 0:00:01\r\u001b[K     |▎                               | 194 kB 30.7 MB/s eta 0:00:01\r\u001b[K     |▎                               | 204 kB 30.7 MB/s eta 0:00:01\r\u001b[K     |▎                               | 215 kB 30.7 MB/s eta 0:00:01\r\u001b[K     |▎                               | 225 kB 30.7 MB/s eta 0:00:01\r\u001b[K     |▎                               | 235 kB 30.7 MB/s eta 0:00:01\r\u001b[K     |▎                               | 245 kB 30.7 MB/s eta 0:00:01\r\u001b[K     |▍                               | 256 kB 30.7 MB/s eta 0:00:01\r\u001b[K     |▍                               | 266 kB 30.7 MB/s eta 0:00:01\r\u001b[K     |▍                               | 276 kB 30.7 MB/s eta 0:00:01\r\u001b[K     |▍                               | 286 kB 30.7 MB/s eta 0:00:01\r\u001b[K     |▍                               | 296 kB 30.7 MB/s eta 0:00:01\r\u001b[K     |▍                               | 307 kB 30.7 MB/s eta 0:00:01"
     ]
    },
    {
     "name": "stdout",
     "output_type": "stream",
     "text": [
      "\r\u001b[K     |▍                               | 317 kB 30.7 MB/s eta 0:00:01\r\u001b[K     |▍                               | 327 kB 30.7 MB/s eta 0:00:01\r\u001b[K     |▌                               | 337 kB 30.7 MB/s eta 0:00:01\r\u001b[K     |▌                               | 348 kB 30.7 MB/s eta 0:00:01\r\u001b[K     |▌                               | 358 kB 30.7 MB/s eta 0:00:01\r\u001b[K     |▌                               | 368 kB 30.7 MB/s eta 0:00:01\r\u001b[K     |▌                               | 378 kB 30.7 MB/s eta 0:00:01\r\u001b[K     |▌                               | 389 kB 30.7 MB/s eta 0:00:01\r\u001b[K     |▌                               | 399 kB 30.7 MB/s eta 0:00:01\r\u001b[K     |▌                               | 409 kB 30.7 MB/s eta 0:00:01\r\u001b[K     |▋                               | 419 kB 30.7 MB/s eta 0:00:01\r\u001b[K     |▋                               | 430 kB 30.7 MB/s eta 0:00:01\r\u001b[K     |▋                               | 440 kB 30.7 MB/s eta 0:00:01\r\u001b[K     |▋                               | 450 kB 30.7 MB/s eta 0:00:01\r\u001b[K     |▋                               | 460 kB 30.7 MB/s eta 0:00:01\r\u001b[K     |▋                               | 471 kB 30.7 MB/s eta 0:00:01\r\u001b[K     |▋                               | 481 kB 30.7 MB/s eta 0:00:01\r\u001b[K     |▋                               | 491 kB 30.7 MB/s eta 0:00:01\r\u001b[K     |▋                               | 501 kB 30.7 MB/s eta 0:00:01\r\u001b[K     |▊                               | 512 kB 30.7 MB/s eta 0:00:01\r\u001b[K     |▊                               | 522 kB 30.7 MB/s eta 0:00:01\r\u001b[K     |▊                               | 532 kB 30.7 MB/s eta 0:00:01\r\u001b[K     |▊                               | 542 kB 30.7 MB/s eta 0:00:01\r\u001b[K     |▊                               | 552 kB 30.7 MB/s eta 0:00:01\r\u001b[K     |▊                               | 563 kB 30.7 MB/s eta 0:00:01\r\u001b[K     |▊                               | 573 kB 30.7 MB/s eta 0:00:01\r\u001b[K     |▊                               | 583 kB 30.7 MB/s eta 0:00:01\r\u001b[K     |▉                               | 593 kB 30.7 MB/s eta 0:00:01\r\u001b[K     |▉                               | 604 kB 30.7 MB/s eta 0:00:01\r\u001b[K     |▉                               | 614 kB 30.7 MB/s eta 0:00:01\r\u001b[K     |▉                               | 624 kB 30.7 MB/s eta 0:00:01\r\u001b[K     |▉                               | 634 kB 30.7 MB/s eta 0:00:01\r\u001b[K     |▉                               | 645 kB 30.7 MB/s eta 0:00:01\r\u001b[K     |▉                               | 655 kB 30.7 MB/s eta 0:00:01\r\u001b[K     |▉                               | 665 kB 30.7 MB/s eta 0:00:01\r\u001b[K     |█                               | 675 kB 30.7 MB/s eta 0:00:01\r\u001b[K     |█                               | 686 kB 30.7 MB/s eta 0:00:01\r\u001b[K     |█                               | 696 kB 30.7 MB/s eta 0:00:01\r\u001b[K     |█                               | 706 kB 30.7 MB/s eta 0:00:01\r\u001b[K     |█                               | 716 kB 30.7 MB/s eta 0:00:01\r\u001b[K     |█                               | 727 kB 30.7 MB/s eta 0:00:01\r\u001b[K     |█                               | 737 kB 30.7 MB/s eta 0:00:01\r\u001b[K     |█                               | 747 kB 30.7 MB/s eta 0:00:01\r\u001b[K     |█                               | 757 kB 30.7 MB/s eta 0:00:01\r\u001b[K     |█                               | 768 kB 30.7 MB/s eta 0:00:01\r\u001b[K     |█                               | 778 kB 30.7 MB/s eta 0:00:01\r\u001b[K     |█                               | 788 kB 30.7 MB/s eta 0:00:01\r\u001b[K     |█                               | 798 kB 30.7 MB/s eta 0:00:01\r\u001b[K     |█                               | 808 kB 30.7 MB/s eta 0:00:01\r\u001b[K     |█                               | 819 kB 30.7 MB/s eta 0:00:01\r\u001b[K     |█                               | 829 kB 30.7 MB/s eta 0:00:01\r\u001b[K     |█▏                              | 839 kB 30.7 MB/s eta 0:00:01\r\u001b[K     |█▏                              | 849 kB 30.7 MB/s eta 0:00:01\r\u001b[K     |█▏                              | 860 kB 30.7 MB/s eta 0:00:01\r\u001b[K     |█▏                              | 870 kB 30.7 MB/s eta 0:00:01\r\u001b[K     |█▏                              | 880 kB 30.7 MB/s eta 0:00:01\r\u001b[K     |█▏                              | 890 kB 30.7 MB/s eta 0:00:01\r\u001b[K     |█▏                              | 901 kB 30.7 MB/s eta 0:00:01\r\u001b[K     |█▏                              | 911 kB 30.7 MB/s eta 0:00:01\r\u001b[K     |█▎                              | 921 kB 30.7 MB/s eta 0:00:01\r\u001b[K     |█▎                              | 931 kB 30.7 MB/s eta 0:00:01\r\u001b[K     |█▎                              | 942 kB 30.7 MB/s eta 0:00:01\r\u001b[K     |█▎                              | 952 kB 30.7 MB/s eta 0:00:01\r\u001b[K     |█▎                              | 962 kB 30.7 MB/s eta 0:00:01\r\u001b[K     |█▎                              | 972 kB 30.7 MB/s eta 0:00:01\r\u001b[K     |█▎                              | 983 kB 30.7 MB/s eta 0:00:01\r\u001b[K     |█▎                              | 993 kB 30.7 MB/s eta 0:00:01\r\u001b[K     |█▎                              | 1.0 MB 30.7 MB/s eta 0:00:01\r\u001b[K     |█▍                              | 1.0 MB 30.7 MB/s eta 0:00:01\r\u001b[K     |█▍                              | 1.0 MB 30.7 MB/s eta 0:00:01\r\u001b[K     |█▍                              | 1.0 MB 30.7 MB/s eta 0:00:01\r\u001b[K     |█▍                              | 1.0 MB 30.7 MB/s eta 0:00:01\r\u001b[K     |█▍                              | 1.1 MB 30.7 MB/s eta 0:00:01\r\u001b[K     |█▍                              | 1.1 MB 30.7 MB/s eta 0:00:01\r\u001b[K     |█▍                              | 1.1 MB 30.7 MB/s eta 0:00:01\r\u001b[K     |█▍                              | 1.1 MB 30.7 MB/s eta 0:00:01\r\u001b[K     |█▌                              | 1.1 MB 30.7 MB/s eta 0:00:01\r\u001b[K     |█▌                              | 1.1 MB 30.7 MB/s eta 0:00:01\r\u001b[K     |█▌                              | 1.1 MB 30.7 MB/s eta 0:00:01\r\u001b[K     |█▌                              | 1.1 MB 30.7 MB/s eta 0:00:01\r\u001b[K     |█▌                              | 1.1 MB 30.7 MB/s eta 0:00:01\r\u001b[K     |█▌                              | 1.1 MB 30.7 MB/s eta 0:00:01\r\u001b[K     |█▌                              | 1.2 MB 30.7 MB/s eta 0:00:01\r\u001b[K     |█▌                              | 1.2 MB 30.7 MB/s eta 0:00:01\r\u001b[K     |█▋                              | 1.2 MB 30.7 MB/s eta 0:00:01\r\u001b[K     |█▋                              | 1.2 MB 30.7 MB/s eta 0:00:01\r\u001b[K     |█▋                              | 1.2 MB 30.7 MB/s eta 0:00:01\r\u001b[K     |█▋                              | 1.2 MB 30.7 MB/s eta 0:00:01\r\u001b[K     |█▋                              | 1.2 MB 30.7 MB/s eta 0:00:01\r\u001b[K     |█▋                              | 1.2 MB 30.7 MB/s eta 0:00:01\r\u001b[K     |█▋                              | 1.2 MB 30.7 MB/s eta 0:00:01\r\u001b[K     |█▋                              | 1.2 MB 30.7 MB/s eta 0:00:01\r\u001b[K     |█▊                              | 1.3 MB 30.7 MB/s eta 0:00:01\r\u001b[K     |█▊                              | 1.3 MB 30.7 MB/s eta 0:00:01\r\u001b[K     |█▊                              | 1.3 MB 30.7 MB/s eta 0:00:01\r\u001b[K     |█▊                              | 1.3 MB 30.7 MB/s eta 0:00:01\r\u001b[K     |█▊                              | 1.3 MB 30.7 MB/s eta 0:00:01\r\u001b[K     |█▊                              | 1.3 MB 30.7 MB/s eta 0:00:01\r\u001b[K     |█▊                              | 1.3 MB 30.7 MB/s eta 0:00:01\r\u001b[K     |█▊                              | 1.3 MB 30.7 MB/s eta 0:00:01\r\u001b[K     |█▉                              | 1.3 MB 30.7 MB/s eta 0:00:01\r\u001b[K     |█▉                              | 1.4 MB 30.7 MB/s eta 0:00:01\r\u001b[K     |█▉                              | 1.4 MB 30.7 MB/s eta 0:00:01\r\u001b[K     |█▉                              | 1.4 MB 30.7 MB/s eta 0:00:01\r\u001b[K     |█▉                              | 1.4 MB 30.7 MB/s eta 0:00:01\r\u001b[K     |█▉                              | 1.4 MB 30.7 MB/s eta 0:00:01\r\u001b[K     |█▉                              | 1.4 MB 30.7 MB/s eta 0:00:01\r\u001b[K     |█▉                              | 1.4 MB 30.7 MB/s eta 0:00:01\r\u001b[K     |██                              | 1.4 MB 30.7 MB/s eta 0:00:01\r\u001b[K     |██                              | 1.4 MB 30.7 MB/s eta 0:00:01\r\u001b[K     |██                              | 1.4 MB 30.7 MB/s eta 0:00:01\r\u001b[K     |██                              | 1.5 MB 30.7 MB/s eta 0:00:01\r\u001b[K     |██                              | 1.5 MB 30.7 MB/s eta 0:00:01\r\u001b[K     |██                              | 1.5 MB 30.7 MB/s eta 0:00:01\r\u001b[K     |██                              | 1.5 MB 30.7 MB/s eta 0:00:01\r\u001b[K     |██                              | 1.5 MB 30.7 MB/s eta 0:00:01\r\u001b[K     |██                              | 1.5 MB 30.7 MB/s eta 0:00:01\r\u001b[K     |██                              | 1.5 MB 30.7 MB/s eta 0:00:01\r\u001b[K     |██                              | 1.5 MB 30.7 MB/s eta 0:00:01\r\u001b[K     |██                              | 1.5 MB 30.7 MB/s eta 0:00:01\r\u001b[K     |██                              | 1.5 MB 30.7 MB/s eta 0:00:01\r\u001b[K     |██                              | 1.6 MB 30.7 MB/s eta 0:00:01\r\u001b[K     |██                              | 1.6 MB 30.7 MB/s eta 0:00:01\r\u001b[K     |██                              | 1.6 MB 30.7 MB/s eta 0:00:01\r\u001b[K     |██                              | 1.6 MB 30.7 MB/s eta 0:00:01\r\u001b[K     |██▏                             | 1.6 MB 30.7 MB/s eta 0:00:01\r\u001b[K     |██▏                             | 1.6 MB 30.7 MB/s eta 0:00:01\r\u001b[K     |██▏                             | 1.6 MB 30.7 MB/s eta 0:00:01\r\u001b[K     |██▏                             | 1.6 MB 30.7 MB/s eta 0:00:01\r\u001b[K     |██▏                             | 1.6 MB 30.7 MB/s eta 0:00:01\r\u001b[K     |██▏                             | 1.6 MB 30.7 MB/s eta 0:00:01\r\u001b[K     |██▏                             | 1.7 MB 30.7 MB/s eta 0:00:01\r\u001b[K     |██▏                             | 1.7 MB 30.7 MB/s eta 0:00:01\r\u001b[K     |██▎                             | 1.7 MB 30.7 MB/s eta 0:00:01\r\u001b[K     |██▎                             | 1.7 MB 30.7 MB/s eta 0:00:01\r\u001b[K     |██▎                             | 1.7 MB 30.7 MB/s eta 0:00:01\r\u001b[K     |██▎                             | 1.7 MB 30.7 MB/s eta 0:00:01\r\u001b[K     |██▎                             | 1.7 MB 30.7 MB/s eta 0:00:01\r\u001b[K     |██▎                             | 1.7 MB 30.7 MB/s eta 0:00:01\r\u001b[K     |██▎                             | 1.7 MB 30.7 MB/s eta 0:00:01\r\u001b[K     |██▎                             | 1.8 MB 30.7 MB/s eta 0:00:01\r\u001b[K     |██▍                             | 1.8 MB 30.7 MB/s eta 0:00:01\r\u001b[K     |██▍                             | 1.8 MB 30.7 MB/s eta 0:00:01\r\u001b[K     |██▍                             | 1.8 MB 30.7 MB/s eta 0:00:01\r\u001b[K     |██▍                             | 1.8 MB 30.7 MB/s eta 0:00:01\r\u001b[K     |██▍                             | 1.8 MB 30.7 MB/s eta 0:00:01\r\u001b[K     |██▍                             | 1.8 MB 30.7 MB/s eta 0:00:01\r\u001b[K     |██▍                             | 1.8 MB 30.7 MB/s eta 0:00:01\r\u001b[K     |██▍                             | 1.8 MB 30.7 MB/s eta 0:00:01\r\u001b[K     |██▌                             | 1.8 MB 30.7 MB/s eta 0:00:01\r\u001b[K     |██▌                             | 1.9 MB 30.7 MB/s eta 0:00:01\r\u001b[K     |██▌                             | 1.9 MB 30.7 MB/s eta 0:00:01\r\u001b[K     |██▌                             | 1.9 MB 30.7 MB/s eta 0:00:01\r\u001b[K     |██▌                             | 1.9 MB 30.7 MB/s eta 0:00:01\r\u001b[K     |██▌                             | 1.9 MB 30.7 MB/s eta 0:00:01\r\u001b[K     |██▌                             | 1.9 MB 30.7 MB/s eta 0:00:01\r\u001b[K     |██▌                             | 1.9 MB 30.7 MB/s eta 0:00:01\r\u001b[K     |██▋                             | 1.9 MB 30.7 MB/s eta 0:00:01\r\u001b[K     |██▋                             | 1.9 MB 30.7 MB/s eta 0:00:01\r\u001b[K     |██▋                             | 1.9 MB 30.7 MB/s eta 0:00:01\r\u001b[K     |██▋                             | 2.0 MB 30.7 MB/s eta 0:00:01\r\u001b[K     |██▋                             | 2.0 MB 30.7 MB/s eta 0:00:01\r\u001b[K     |██▋                             | 2.0 MB 30.7 MB/s eta 0:00:01\r\u001b[K     |██▋                             | 2.0 MB 30.7 MB/s eta 0:00:01\r\u001b[K     |██▋                             | 2.0 MB 30.7 MB/s eta 0:00:01\r\u001b[K     |██▋                             | 2.0 MB 30.7 MB/s eta 0:00:01\r\u001b[K     |██▊                             | 2.0 MB 30.7 MB/s eta 0:00:01\r\u001b[K     |██▊                             | 2.0 MB 30.7 MB/s eta 0:00:01\r\u001b[K     |██▊                             | 2.0 MB 30.7 MB/s eta 0:00:01\r\u001b[K     |██▊                             | 2.0 MB 30.7 MB/s eta 0:00:01\r\u001b[K     |██▊                             | 2.1 MB 30.7 MB/s eta 0:00:01\r\u001b[K     |██▊                             | 2.1 MB 30.7 MB/s eta 0:00:01\r\u001b[K     |██▊                             | 2.1 MB 30.7 MB/s eta 0:00:01\r\u001b[K     |██▊                             | 2.1 MB 30.7 MB/s eta 0:00:01\r\u001b[K     |██▉                             | 2.1 MB 30.7 MB/s eta 0:00:01\r\u001b[K     |██▉                             | 2.1 MB 30.7 MB/s eta 0:00:01\r\u001b[K     |██▉                             | 2.1 MB 30.7 MB/s eta 0:00:01\r\u001b[K     |██▉                             | 2.1 MB 30.7 MB/s eta 0:00:01\r\u001b[K     |██▉                             | 2.1 MB 30.7 MB/s eta 0:00:01\r\u001b[K     |██▉                             | 2.2 MB 30.7 MB/s eta 0:00:01\r\u001b[K     |██▉                             | 2.2 MB 30.7 MB/s eta 0:00:01\r\u001b[K     |██▉                             | 2.2 MB 30.7 MB/s eta 0:00:01\r\u001b[K     |███                             | 2.2 MB 30.7 MB/s eta 0:00:01\r\u001b[K     |███                             | 2.2 MB 30.7 MB/s eta 0:00:01\r\u001b[K     |███                             | 2.2 MB 30.7 MB/s eta 0:00:01\r\u001b[K     |███                             | 2.2 MB 30.7 MB/s eta 0:00:01\r\u001b[K     |███                             | 2.2 MB 30.7 MB/s eta 0:00:01\r\u001b[K     |███                             | 2.2 MB 30.7 MB/s eta 0:00:01\r\u001b[K     |███                             | 2.2 MB 30.7 MB/s eta 0:00:01\r\u001b[K     |███                             | 2.3 MB 30.7 MB/s eta 0:00:01\r\u001b[K     |███                             | 2.3 MB 30.7 MB/s eta 0:00:01\r\u001b[K     |███                             | 2.3 MB 30.7 MB/s eta 0:00:01\r\u001b[K     |███                             | 2.3 MB 30.7 MB/s eta 0:00:01\r\u001b[K     |███                             | 2.3 MB 30.7 MB/s eta 0:00:01\r\u001b[K     |███                             | 2.3 MB 30.7 MB/s eta 0:00:01\r\u001b[K     |███                             | 2.3 MB 30.7 MB/s eta 0:00:01\r\u001b[K     |███                             | 2.3 MB 30.7 MB/s eta 0:00:01\r\u001b[K     |███                             | 2.3 MB 30.7 MB/s eta 0:00:01\r\u001b[K     |███▏                            | 2.3 MB 30.7 MB/s eta 0:00:01\r\u001b[K     |███▏                            | 2.4 MB 30.7 MB/s eta 0:00:01\r\u001b[K     |███▏                            | 2.4 MB 30.7 MB/s eta 0:00:01\r\u001b[K     |███▏                            | 2.4 MB 30.7 MB/s eta 0:00:01\r\u001b[K     |███▏                            | 2.4 MB 30.7 MB/s eta 0:00:01\r\u001b[K     |███▏                            | 2.4 MB 30.7 MB/s eta 0:00:01\r\u001b[K     |███▏                            | 2.4 MB 30.7 MB/s eta 0:00:01\r\u001b[K     |███▏                            | 2.4 MB 30.7 MB/s eta 0:00:01\r\u001b[K     |███▎                            | 2.4 MB 30.7 MB/s eta 0:00:01\r\u001b[K     |███▎                            | 2.4 MB 30.7 MB/s eta 0:00:01\r\u001b[K     |███▎                            | 2.4 MB 30.7 MB/s eta 0:00:01\r\u001b[K     |███▎                            | 2.5 MB 30.7 MB/s eta 0:00:01\r\u001b[K     |███▎                            | 2.5 MB 30.7 MB/s eta 0:00:01\r\u001b[K     |███▎                            | 2.5 MB 30.7 MB/s eta 0:00:01\r\u001b[K     |███▎                            | 2.5 MB 30.7 MB/s eta 0:00:01\r\u001b[K     |███▎                            | 2.5 MB 30.7 MB/s eta 0:00:01\r\u001b[K     |███▎                            | 2.5 MB 30.7 MB/s eta 0:00:01\r\u001b[K     |███▍                            | 2.5 MB 30.7 MB/s eta 0:00:01\r\u001b[K     |███▍                            | 2.5 MB 30.7 MB/s eta 0:00:01\r\u001b[K     |███▍                            | 2.5 MB 30.7 MB/s eta 0:00:01\r\u001b[K     |███▍                            | 2.5 MB 30.7 MB/s eta 0:00:01\r\u001b[K     |███▍                            | 2.6 MB 30.7 MB/s eta 0:00:01\r\u001b[K     |███▍                            | 2.6 MB 30.7 MB/s eta 0:00:01\r\u001b[K     |███▍                            | 2.6 MB 30.7 MB/s eta 0:00:01\r\u001b[K     |███▍                            | 2.6 MB 30.7 MB/s eta 0:00:01\r\u001b[K     |███▌                            | 2.6 MB 30.7 MB/s eta 0:00:01\r\u001b[K     |███▌                            | 2.6 MB 30.7 MB/s eta 0:00:01\r\u001b[K     |███▌                            | 2.6 MB 30.7 MB/s eta 0:00:01\r\u001b[K     |███▌                            | 2.6 MB 30.7 MB/s eta 0:00:01\r\u001b[K     |███▌                            | 2.6 MB 30.7 MB/s eta 0:00:01\r\u001b[K     |███▌                            | 2.7 MB 30.7 MB/s eta 0:00:01\r\u001b[K     |███▌                            | 2.7 MB 30.7 MB/s eta 0:00:01\r\u001b[K     |███▌                            | 2.7 MB 30.7 MB/s eta 0:00:01\r\u001b[K     |███▋                            | 2.7 MB 30.7 MB/s eta 0:00:01\r\u001b[K     |███▋                            | 2.7 MB 30.7 MB/s eta 0:00:01\r\u001b[K     |███▋                            | 2.7 MB 30.7 MB/s eta 0:00:01\r\u001b[K     |███▋                            | 2.7 MB 30.7 MB/s eta 0:00:01\r\u001b[K     |███▋                            | 2.7 MB 30.7 MB/s eta 0:00:01\r\u001b[K     |███▋                            | 2.7 MB 30.7 MB/s eta 0:00:01\r\u001b[K     |███▋                            | 2.7 MB 30.7 MB/s eta 0:00:01\r\u001b[K     |███▋                            | 2.8 MB 30.7 MB/s eta 0:00:01\r\u001b[K     |███▊                            | 2.8 MB 30.7 MB/s eta 0:00:01\r\u001b[K     |███▊                            | 2.8 MB 30.7 MB/s eta 0:00:01\r\u001b[K     |███▊                            | 2.8 MB 30.7 MB/s eta 0:00:01\r\u001b[K     |███▊                            | 2.8 MB 30.7 MB/s eta 0:00:01\r\u001b[K     |███▊                            | 2.8 MB 30.7 MB/s eta 0:00:01\r\u001b[K     |███▊                            | 2.8 MB 30.7 MB/s eta 0:00:01\r\u001b[K     |███▊                            | 2.8 MB 30.7 MB/s eta 0:00:01\r\u001b[K     |███▊                            | 2.8 MB 30.7 MB/s eta 0:00:01\r\u001b[K     |███▉                            | 2.8 MB 30.7 MB/s eta 0:00:01\r\u001b[K     |███▉                            | 2.9 MB 30.7 MB/s eta 0:00:01\r\u001b[K     |███▉                            | 2.9 MB 30.7 MB/s eta 0:00:01\r\u001b[K     |███▉                            | 2.9 MB 30.7 MB/s eta 0:00:01\r\u001b[K     |███▉                            | 2.9 MB 30.7 MB/s eta 0:00:01\r\u001b[K     |███▉                            | 2.9 MB 30.7 MB/s eta 0:00:01\r\u001b[K     |███▉                            | 2.9 MB 30.7 MB/s eta 0:00:01\r\u001b[K     |███▉                            | 2.9 MB 30.7 MB/s eta 0:00:01\r\u001b[K     |████                            | 2.9 MB 30.7 MB/s eta 0:00:01\r\u001b[K     |████                            | 2.9 MB 30.7 MB/s eta 0:00:01\r\u001b[K     |████                            | 2.9 MB 30.7 MB/s eta 0:00:01\r\u001b[K     |████                            | 3.0 MB 30.7 MB/s eta 0:00:01\r\u001b[K     |████                            | 3.0 MB 30.7 MB/s eta 0:00:01\r\u001b[K     |████                            | 3.0 MB 30.7 MB/s eta 0:00:01\r\u001b[K     |████                            | 3.0 MB 30.7 MB/s eta 0:00:01\r\u001b[K     |████                            | 3.0 MB 30.7 MB/s eta 0:00:01\r\u001b[K     |████                            | 3.0 MB 30.7 MB/s eta 0:00:01\r\u001b[K     |████                            | 3.0 MB 30.7 MB/s eta 0:00:01\r\u001b[K     |████                            | 3.0 MB 30.7 MB/s eta 0:00:01\r\u001b[K     |████                            | 3.0 MB 30.7 MB/s eta 0:00:01\r\u001b[K     |████                            | 3.1 MB 30.7 MB/s eta 0:00:01\r\u001b[K     |████                            | 3.1 MB 30.7 MB/s eta 0:00:01\r\u001b[K     |████                            | 3.1 MB 30.7 MB/s eta 0:00:01\r\u001b[K     |████                            | 3.1 MB 30.7 MB/s eta 0:00:01\r\u001b[K     |████                            | 3.1 MB 30.7 MB/s eta 0:00:01\r\u001b[K     |████▏                           | 3.1 MB 30.7 MB/s eta 0:00:01\r\u001b[K     |████▏                           | 3.1 MB 30.7 MB/s eta 0:00:01\r\u001b[K     |████▏                           | 3.1 MB 30.7 MB/s eta 0:00:01\r\u001b[K     |████▏                           | 3.1 MB 30.7 MB/s eta 0:00:01\r\u001b[K     |████▏                           | 3.1 MB 30.7 MB/s eta 0:00:01\r\u001b[K     |████▏                           | 3.2 MB 30.7 MB/s eta 0:00:01\r\u001b[K     |████▏                           | 3.2 MB 30.7 MB/s eta 0:00:01\r\u001b[K     |████▏                           | 3.2 MB 30.7 MB/s eta 0:00:01\r\u001b[K     |████▎                           | 3.2 MB 30.7 MB/s eta 0:00:01\r\u001b[K     |████▎                           | 3.2 MB 30.7 MB/s eta 0:00:01\r\u001b[K     |████▎                           | 3.2 MB 30.7 MB/s eta 0:00:01\r\u001b[K     |████▎                           | 3.2 MB 30.7 MB/s eta 0:00:01\r\u001b[K     |████▎                           | 3.2 MB 30.7 MB/s eta 0:00:01\r\u001b[K     |████▎                           | 3.2 MB 30.7 MB/s eta 0:00:01\r\u001b[K     |████▎                           | 3.2 MB 30.7 MB/s eta 0:00:01\r\u001b[K     |████▎                           | 3.3 MB 30.7 MB/s eta 0:00:01\r\u001b[K     |████▍                           | 3.3 MB 30.7 MB/s eta 0:00:01\r\u001b[K     |████▍                           | 3.3 MB 30.7 MB/s eta 0:00:01\r\u001b[K     |████▍                           | 3.3 MB 30.7 MB/s eta 0:00:01\r\u001b[K     |████▍                           | 3.3 MB 30.7 MB/s eta 0:00:01"
     ]
    },
    {
     "name": "stdout",
     "output_type": "stream",
     "text": [
      "\r\u001b[K     |████▍                           | 3.3 MB 30.7 MB/s eta 0:00:01\r\u001b[K     |████▍                           | 3.3 MB 30.7 MB/s eta 0:00:01\r\u001b[K     |████▍                           | 3.3 MB 30.7 MB/s eta 0:00:01\r\u001b[K     |████▍                           | 3.3 MB 30.7 MB/s eta 0:00:01\r\u001b[K     |████▌                           | 3.3 MB 30.7 MB/s eta 0:00:01\r\u001b[K     |████▌                           | 3.4 MB 30.7 MB/s eta 0:00:01\r\u001b[K     |████▌                           | 3.4 MB 30.7 MB/s eta 0:00:01\r\u001b[K     |████▌                           | 3.4 MB 30.7 MB/s eta 0:00:01\r\u001b[K     |████▌                           | 3.4 MB 30.7 MB/s eta 0:00:01\r\u001b[K     |████▌                           | 3.4 MB 30.7 MB/s eta 0:00:01\r\u001b[K     |████▌                           | 3.4 MB 30.7 MB/s eta 0:00:01\r\u001b[K     |████▌                           | 3.4 MB 30.7 MB/s eta 0:00:01\r\u001b[K     |████▋                           | 3.4 MB 30.7 MB/s eta 0:00:01\r\u001b[K     |████▋                           | 3.4 MB 30.7 MB/s eta 0:00:01\r\u001b[K     |████▋                           | 3.5 MB 30.7 MB/s eta 0:00:01\r\u001b[K     |████▋                           | 3.5 MB 30.7 MB/s eta 0:00:01\r\u001b[K     |████▋                           | 3.5 MB 30.7 MB/s eta 0:00:01\r\u001b[K     |████▋                           | 3.5 MB 30.7 MB/s eta 0:00:01\r\u001b[K     |████▋                           | 3.5 MB 30.7 MB/s eta 0:00:01\r\u001b[K     |████▋                           | 3.5 MB 30.7 MB/s eta 0:00:01\r\u001b[K     |████▋                           | 3.5 MB 30.7 MB/s eta 0:00:01\r\u001b[K     |████▊                           | 3.5 MB 30.7 MB/s eta 0:00:01\r\u001b[K     |████▊                           | 3.5 MB 30.7 MB/s eta 0:00:01\r\u001b[K     |████▊                           | 3.5 MB 30.7 MB/s eta 0:00:01\r\u001b[K     |████▊                           | 3.6 MB 30.7 MB/s eta 0:00:01\r\u001b[K     |████▊                           | 3.6 MB 30.7 MB/s eta 0:00:01\r\u001b[K     |████▊                           | 3.6 MB 30.7 MB/s eta 0:00:01\r\u001b[K     |████▊                           | 3.6 MB 30.7 MB/s eta 0:00:01\r\u001b[K     |████▊                           | 3.6 MB 30.7 MB/s eta 0:00:01\r\u001b[K     |████▉                           | 3.6 MB 30.7 MB/s eta 0:00:01\r\u001b[K     |████▉                           | 3.6 MB 30.7 MB/s eta 0:00:01\r\u001b[K     |████▉                           | 3.6 MB 30.7 MB/s eta 0:00:01\r\u001b[K     |████▉                           | 3.6 MB 30.7 MB/s eta 0:00:01\r\u001b[K     |████▉                           | 3.6 MB 30.7 MB/s eta 0:00:01\r\u001b[K     |████▉                           | 3.7 MB 30.7 MB/s eta 0:00:01\r\u001b[K     |████▉                           | 3.7 MB 30.7 MB/s eta 0:00:01\r\u001b[K     |████▉                           | 3.7 MB 30.7 MB/s eta 0:00:01\r\u001b[K     |█████                           | 3.7 MB 30.7 MB/s eta 0:00:01\r\u001b[K     |█████                           | 3.7 MB 30.7 MB/s eta 0:00:01\r\u001b[K     |█████                           | 3.7 MB 30.7 MB/s eta 0:00:01\r\u001b[K     |█████                           | 3.7 MB 30.7 MB/s eta 0:00:01\r\u001b[K     |█████                           | 3.7 MB 30.7 MB/s eta 0:00:01\r\u001b[K     |█████                           | 3.7 MB 30.7 MB/s eta 0:00:01\r\u001b[K     |█████                           | 3.7 MB 30.7 MB/s eta 0:00:01\r\u001b[K     |█████                           | 3.8 MB 30.7 MB/s eta 0:00:01\r\u001b[K     |█████                           | 3.8 MB 30.7 MB/s eta 0:00:01\r\u001b[K     |█████                           | 3.8 MB 30.7 MB/s eta 0:00:01\r\u001b[K     |█████                           | 3.8 MB 30.7 MB/s eta 0:00:01\r\u001b[K     |█████                           | 3.8 MB 30.7 MB/s eta 0:00:01\r\u001b[K     |█████                           | 3.8 MB 30.7 MB/s eta 0:00:01\r\u001b[K     |█████                           | 3.8 MB 30.7 MB/s eta 0:00:01\r\u001b[K     |█████                           | 3.8 MB 30.7 MB/s eta 0:00:01\r\u001b[K     |█████                           | 3.8 MB 30.7 MB/s eta 0:00:01\r\u001b[K     |█████▏                          | 3.9 MB 30.7 MB/s eta 0:00:01\r\u001b[K     |█████▏                          | 3.9 MB 30.7 MB/s eta 0:00:01\r\u001b[K     |█████▏                          | 3.9 MB 30.7 MB/s eta 0:00:01\r\u001b[K     |█████▏                          | 3.9 MB 30.7 MB/s eta 0:00:01\r\u001b[K     |█████▏                          | 3.9 MB 30.7 MB/s eta 0:00:01\r\u001b[K     |█████▏                          | 3.9 MB 30.7 MB/s eta 0:00:01\r\u001b[K     |█████▏                          | 3.9 MB 30.7 MB/s eta 0:00:01\r\u001b[K     |█████▏                          | 3.9 MB 30.7 MB/s eta 0:00:01\r\u001b[K     |█████▎                          | 3.9 MB 30.7 MB/s eta 0:00:01\r\u001b[K     |█████▎                          | 3.9 MB 30.7 MB/s eta 0:00:01\r\u001b[K     |█████▎                          | 4.0 MB 30.7 MB/s eta 0:00:01\r\u001b[K     |█████▎                          | 4.0 MB 30.7 MB/s eta 0:00:01\r\u001b[K     |█████▎                          | 4.0 MB 30.7 MB/s eta 0:00:01\r\u001b[K     |█████▎                          | 4.0 MB 30.7 MB/s eta 0:00:01\r\u001b[K     |█████▎                          | 4.0 MB 30.7 MB/s eta 0:00:01\r\u001b[K     |█████▎                          | 4.0 MB 30.7 MB/s eta 0:00:01\r\u001b[K     |█████▎                          | 4.0 MB 30.7 MB/s eta 0:00:01\r\u001b[K     |█████▍                          | 4.0 MB 30.7 MB/s eta 0:00:01\r\u001b[K     |█████▍                          | 4.0 MB 30.7 MB/s eta 0:00:01\r\u001b[K     |█████▍                          | 4.0 MB 30.7 MB/s eta 0:00:01\r\u001b[K     |█████▍                          | 4.1 MB 30.7 MB/s eta 0:00:01\r\u001b[K     |█████▍                          | 4.1 MB 30.7 MB/s eta 0:00:01\r\u001b[K     |█████▍                          | 4.1 MB 30.7 MB/s eta 0:00:01\r\u001b[K     |█████▍                          | 4.1 MB 30.7 MB/s eta 0:00:01\r\u001b[K     |█████▍                          | 4.1 MB 30.7 MB/s eta 0:00:01\r\u001b[K     |█████▌                          | 4.1 MB 30.7 MB/s eta 0:00:01\r\u001b[K     |█████▌                          | 4.1 MB 30.7 MB/s eta 0:00:01\r\u001b[K     |█████▌                          | 4.1 MB 30.7 MB/s eta 0:00:01\r\u001b[K     |█████▌                          | 4.1 MB 30.7 MB/s eta 0:00:01\r\u001b[K     |█████▌                          | 4.1 MB 30.7 MB/s eta 0:00:01\r\u001b[K     |█████▌                          | 4.2 MB 30.7 MB/s eta 0:00:01\r\u001b[K     |█████▌                          | 4.2 MB 30.7 MB/s eta 0:00:01\r\u001b[K     |█████▌                          | 4.2 MB 30.7 MB/s eta 0:00:01\r\u001b[K     |█████▋                          | 4.2 MB 30.7 MB/s eta 0:00:01\r\u001b[K     |█████▋                          | 4.2 MB 30.7 MB/s eta 0:00:01\r\u001b[K     |█████▋                          | 4.2 MB 30.7 MB/s eta 0:00:01\r\u001b[K     |█████▋                          | 4.2 MB 30.7 MB/s eta 0:00:01\r\u001b[K     |█████▋                          | 4.2 MB 30.7 MB/s eta 0:00:01\r\u001b[K     |█████▋                          | 4.2 MB 30.7 MB/s eta 0:00:01\r\u001b[K     |█████▋                          | 4.2 MB 30.7 MB/s eta 0:00:01\r\u001b[K     |█████▋                          | 4.3 MB 30.7 MB/s eta 0:00:01\r\u001b[K     |█████▊                          | 4.3 MB 30.7 MB/s eta 0:00:01\r\u001b[K     |█████▊                          | 4.3 MB 30.7 MB/s eta 0:00:01\r\u001b[K     |█████▊                          | 4.3 MB 30.7 MB/s eta 0:00:01\r\u001b[K     |█████▊                          | 4.3 MB 30.7 MB/s eta 0:00:01\r\u001b[K     |█████▊                          | 4.3 MB 30.7 MB/s eta 0:00:01\r\u001b[K     |█████▊                          | 4.3 MB 30.7 MB/s eta 0:00:01\r\u001b[K     |█████▊                          | 4.3 MB 30.7 MB/s eta 0:00:01\r\u001b[K     |█████▊                          | 4.3 MB 30.7 MB/s eta 0:00:01\r\u001b[K     |█████▉                          | 4.4 MB 30.7 MB/s eta 0:00:01\r\u001b[K     |█████▉                          | 4.4 MB 30.7 MB/s eta 0:00:01\r\u001b[K     |█████▉                          | 4.4 MB 30.7 MB/s eta 0:00:01\r\u001b[K     |█████▉                          | 4.4 MB 30.7 MB/s eta 0:00:01\r\u001b[K     |█████▉                          | 4.4 MB 30.7 MB/s eta 0:00:01\r\u001b[K     |█████▉                          | 4.4 MB 30.7 MB/s eta 0:00:01\r\u001b[K     |█████▉                          | 4.4 MB 30.7 MB/s eta 0:00:01\r\u001b[K     |█████▉                          | 4.4 MB 30.7 MB/s eta 0:00:01\r\u001b[K     |██████                          | 4.4 MB 30.7 MB/s eta 0:00:01\r\u001b[K     |██████                          | 4.4 MB 30.7 MB/s eta 0:00:01\r\u001b[K     |██████                          | 4.5 MB 30.7 MB/s eta 0:00:01\r\u001b[K     |██████                          | 4.5 MB 30.7 MB/s eta 0:00:01\r\u001b[K     |██████                          | 4.5 MB 30.7 MB/s eta 0:00:01\r\u001b[K     |██████                          | 4.5 MB 30.7 MB/s eta 0:00:01\r\u001b[K     |██████                          | 4.5 MB 30.7 MB/s eta 0:00:01\r\u001b[K     |██████                          | 4.5 MB 30.7 MB/s eta 0:00:01\r\u001b[K     |██████                          | 4.5 MB 30.7 MB/s eta 0:00:01\r\u001b[K     |██████                          | 4.5 MB 30.7 MB/s eta 0:00:01\r\u001b[K     |██████                          | 4.5 MB 30.7 MB/s eta 0:00:01\r\u001b[K     |██████                          | 4.5 MB 30.7 MB/s eta 0:00:01\r\u001b[K     |██████                          | 4.6 MB 30.7 MB/s eta 0:00:01\r\u001b[K     |██████                          | 4.6 MB 30.7 MB/s eta 0:00:01\r\u001b[K     |██████                          | 4.6 MB 30.7 MB/s eta 0:00:01\r\u001b[K     |██████                          | 4.6 MB 30.7 MB/s eta 0:00:01\r\u001b[K     |██████                          | 4.6 MB 30.7 MB/s eta 0:00:01\r\u001b[K     |██████▏                         | 4.6 MB 30.7 MB/s eta 0:00:01\r\u001b[K     |██████▏                         | 4.6 MB 30.7 MB/s eta 0:00:01\r\u001b[K     |██████▏                         | 4.6 MB 30.7 MB/s eta 0:00:01\r\u001b[K     |██████▏                         | 4.6 MB 30.7 MB/s eta 0:00:01\r\u001b[K     |██████▏                         | 4.6 MB 30.7 MB/s eta 0:00:01\r\u001b[K     |██████▏                         | 4.7 MB 30.7 MB/s eta 0:00:01\r\u001b[K     |██████▏                         | 4.7 MB 30.7 MB/s eta 0:00:01\r\u001b[K     |██████▏                         | 4.7 MB 30.7 MB/s eta 0:00:01\r\u001b[K     |██████▎                         | 4.7 MB 30.7 MB/s eta 0:00:01\r\u001b[K     |██████▎                         | 4.7 MB 30.7 MB/s eta 0:00:01\r\u001b[K     |██████▎                         | 4.7 MB 30.7 MB/s eta 0:00:01\r\u001b[K     |██████▎                         | 4.7 MB 30.7 MB/s eta 0:00:01\r\u001b[K     |██████▎                         | 4.7 MB 30.7 MB/s eta 0:00:01\r\u001b[K     |██████▎                         | 4.7 MB 30.7 MB/s eta 0:00:01\r\u001b[K     |██████▎                         | 4.8 MB 30.7 MB/s eta 0:00:01\r\u001b[K     |██████▎                         | 4.8 MB 30.7 MB/s eta 0:00:01\r\u001b[K     |██████▍                         | 4.8 MB 30.7 MB/s eta 0:00:01\r\u001b[K     |██████▍                         | 4.8 MB 30.7 MB/s eta 0:00:01\r\u001b[K     |██████▍                         | 4.8 MB 30.7 MB/s eta 0:00:01\r\u001b[K     |██████▍                         | 4.8 MB 30.7 MB/s eta 0:00:01\r\u001b[K     |██████▍                         | 4.8 MB 30.7 MB/s eta 0:00:01\r\u001b[K     |██████▍                         | 4.8 MB 30.7 MB/s eta 0:00:01\r\u001b[K     |██████▍                         | 4.8 MB 30.7 MB/s eta 0:00:01\r\u001b[K     |██████▍                         | 4.8 MB 30.7 MB/s eta 0:00:01\r\u001b[K     |██████▌                         | 4.9 MB 30.7 MB/s eta 0:00:01\r\u001b[K     |██████▌                         | 4.9 MB 30.7 MB/s eta 0:00:01\r\u001b[K     |██████▌                         | 4.9 MB 30.7 MB/s eta 0:00:01\r\u001b[K     |██████▌                         | 4.9 MB 30.7 MB/s eta 0:00:01\r\u001b[K     |██████▌                         | 4.9 MB 30.7 MB/s eta 0:00:01\r\u001b[K     |██████▌                         | 4.9 MB 30.7 MB/s eta 0:00:01\r\u001b[K     |██████▌                         | 4.9 MB 30.7 MB/s eta 0:00:01\r\u001b[K     |██████▌                         | 4.9 MB 30.7 MB/s eta 0:00:01\r\u001b[K     |██████▋                         | 4.9 MB 30.7 MB/s eta 0:00:01\r\u001b[K     |██████▋                         | 4.9 MB 30.7 MB/s eta 0:00:01\r\u001b[K     |██████▋                         | 5.0 MB 30.7 MB/s eta 0:00:01\r\u001b[K     |██████▋                         | 5.0 MB 30.7 MB/s eta 0:00:01\r\u001b[K     |██████▋                         | 5.0 MB 30.7 MB/s eta 0:00:01\r\u001b[K     |██████▋                         | 5.0 MB 30.7 MB/s eta 0:00:01\r\u001b[K     |██████▋                         | 5.0 MB 30.7 MB/s eta 0:00:01\r\u001b[K     |██████▋                         | 5.0 MB 30.7 MB/s eta 0:00:01\r\u001b[K     |██████▋                         | 5.0 MB 30.7 MB/s eta 0:00:01\r\u001b[K     |██████▊                         | 5.0 MB 30.7 MB/s eta 0:00:01\r\u001b[K     |██████▊                         | 5.0 MB 30.7 MB/s eta 0:00:01\r\u001b[K     |██████▊                         | 5.0 MB 30.7 MB/s eta 0:00:01\r\u001b[K     |██████▊                         | 5.1 MB 30.7 MB/s eta 0:00:01\r\u001b[K     |██████▊                         | 5.1 MB 30.7 MB/s eta 0:00:01\r\u001b[K     |██████▊                         | 5.1 MB 30.7 MB/s eta 0:00:01\r\u001b[K     |██████▊                         | 5.1 MB 30.7 MB/s eta 0:00:01\r\u001b[K     |██████▊                         | 5.1 MB 30.7 MB/s eta 0:00:01\r\u001b[K     |██████▉                         | 5.1 MB 30.7 MB/s eta 0:00:01\r\u001b[K     |██████▉                         | 5.1 MB 30.7 MB/s eta 0:00:01\r\u001b[K     |██████▉                         | 5.1 MB 30.7 MB/s eta 0:00:01\r\u001b[K     |██████▉                         | 5.1 MB 30.7 MB/s eta 0:00:01\r\u001b[K     |██████▉                         | 5.2 MB 30.7 MB/s eta 0:00:01\r\u001b[K     |██████▉                         | 5.2 MB 30.7 MB/s eta 0:00:01\r\u001b[K     |██████▉                         | 5.2 MB 30.7 MB/s eta 0:00:01\r\u001b[K     |██████▉                         | 5.2 MB 30.7 MB/s eta 0:00:01\r\u001b[K     |███████                         | 5.2 MB 30.7 MB/s eta 0:00:01\r\u001b[K     |███████                         | 5.2 MB 30.7 MB/s eta 0:00:01\r\u001b[K     |███████                         | 5.2 MB 30.7 MB/s eta 0:00:01\r\u001b[K     |███████                         | 5.2 MB 30.7 MB/s eta 0:00:01\r\u001b[K     |███████                         | 5.2 MB 30.7 MB/s eta 0:00:01\r\u001b[K     |███████                         | 5.2 MB 30.7 MB/s eta 0:00:01\r\u001b[K     |███████                         | 5.3 MB 30.7 MB/s eta 0:00:01\r\u001b[K     |███████                         | 5.3 MB 30.7 MB/s eta 0:00:01\r\u001b[K     |███████                         | 5.3 MB 30.7 MB/s eta 0:00:01\r\u001b[K     |███████                         | 5.3 MB 30.7 MB/s eta 0:00:01\r\u001b[K     |███████                         | 5.3 MB 30.7 MB/s eta 0:00:01\r\u001b[K     |███████                         | 5.3 MB 30.7 MB/s eta 0:00:01\r\u001b[K     |███████                         | 5.3 MB 30.7 MB/s eta 0:00:01\r\u001b[K     |███████                         | 5.3 MB 30.7 MB/s eta 0:00:01\r\u001b[K     |███████                         | 5.3 MB 30.7 MB/s eta 0:00:01\r\u001b[K     |███████                         | 5.3 MB 30.7 MB/s eta 0:00:01\r\u001b[K     |███████▏                        | 5.4 MB 30.7 MB/s eta 0:00:01\r\u001b[K     |███████▏                        | 5.4 MB 30.7 MB/s eta 0:00:01\r\u001b[K     |███████▏                        | 5.4 MB 30.7 MB/s eta 0:00:01\r\u001b[K     |███████▏                        | 5.4 MB 30.7 MB/s eta 0:00:01\r\u001b[K     |███████▏                        | 5.4 MB 30.7 MB/s eta 0:00:01\r\u001b[K     |███████▏                        | 5.4 MB 30.7 MB/s eta 0:00:01\r\u001b[K     |███████▏                        | 5.4 MB 30.7 MB/s eta 0:00:01\r\u001b[K     |███████▏                        | 5.4 MB 30.7 MB/s eta 0:00:01\r\u001b[K     |███████▎                        | 5.4 MB 30.7 MB/s eta 0:00:01\r\u001b[K     |███████▎                        | 5.4 MB 30.7 MB/s eta 0:00:01\r\u001b[K     |███████▎                        | 5.5 MB 30.7 MB/s eta 0:00:01\r\u001b[K     |███████▎                        | 5.5 MB 30.7 MB/s eta 0:00:01\r\u001b[K     |███████▎                        | 5.5 MB 30.7 MB/s eta 0:00:01\r\u001b[K     |███████▎                        | 5.5 MB 30.7 MB/s eta 0:00:01\r\u001b[K     |███████▎                        | 5.5 MB 30.7 MB/s eta 0:00:01\r\u001b[K     |███████▎                        | 5.5 MB 30.7 MB/s eta 0:00:01\r\u001b[K     |███████▎                        | 5.5 MB 30.7 MB/s eta 0:00:01\r\u001b[K     |███████▍                        | 5.5 MB 30.7 MB/s eta 0:00:01\r\u001b[K     |███████▍                        | 5.5 MB 30.7 MB/s eta 0:00:01\r\u001b[K     |███████▍                        | 5.6 MB 30.7 MB/s eta 0:00:01\r\u001b[K     |███████▍                        | 5.6 MB 30.7 MB/s eta 0:00:01\r\u001b[K     |███████▍                        | 5.6 MB 30.7 MB/s eta 0:00:01\r\u001b[K     |███████▍                        | 5.6 MB 30.7 MB/s eta 0:00:01\r\u001b[K     |███████▍                        | 5.6 MB 30.7 MB/s eta 0:00:01\r\u001b[K     |███████▍                        | 5.6 MB 30.7 MB/s eta 0:00:01\r\u001b[K     |███████▌                        | 5.6 MB 30.7 MB/s eta 0:00:01\r\u001b[K     |███████▌                        | 5.6 MB 30.7 MB/s eta 0:00:01\r\u001b[K     |███████▌                        | 5.6 MB 30.7 MB/s eta 0:00:01\r\u001b[K     |███████▌                        | 5.6 MB 30.7 MB/s eta 0:00:01\r\u001b[K     |███████▌                        | 5.7 MB 30.7 MB/s eta 0:00:01\r\u001b[K     |███████▌                        | 5.7 MB 30.7 MB/s eta 0:00:01\r\u001b[K     |███████▌                        | 5.7 MB 30.7 MB/s eta 0:00:01\r\u001b[K     |███████▌                        | 5.7 MB 30.7 MB/s eta 0:00:01\r\u001b[K     |███████▋                        | 5.7 MB 30.7 MB/s eta 0:00:01\r\u001b[K     |███████▋                        | 5.7 MB 30.7 MB/s eta 0:00:01\r\u001b[K     |███████▋                        | 5.7 MB 30.7 MB/s eta 0:00:01\r\u001b[K     |███████▋                        | 5.7 MB 30.7 MB/s eta 0:00:01\r\u001b[K     |███████▋                        | 5.7 MB 30.7 MB/s eta 0:00:01\r\u001b[K     |███████▋                        | 5.7 MB 30.7 MB/s eta 0:00:01\r\u001b[K     |███████▋                        | 5.8 MB 30.7 MB/s eta 0:00:01\r\u001b[K     |███████▋                        | 5.8 MB 30.7 MB/s eta 0:00:01\r\u001b[K     |███████▊                        | 5.8 MB 30.7 MB/s eta 0:00:01\r\u001b[K     |███████▊                        | 5.8 MB 30.7 MB/s eta 0:00:01\r\u001b[K     |███████▊                        | 5.8 MB 30.7 MB/s eta 0:00:01\r\u001b[K     |███████▊                        | 5.8 MB 30.7 MB/s eta 0:00:01\r\u001b[K     |███████▊                        | 5.8 MB 30.7 MB/s eta 0:00:01\r\u001b[K     |███████▊                        | 5.8 MB 30.7 MB/s eta 0:00:01\r\u001b[K     |███████▊                        | 5.8 MB 30.7 MB/s eta 0:00:01\r\u001b[K     |███████▊                        | 5.8 MB 30.7 MB/s eta 0:00:01\r\u001b[K     |███████▉                        | 5.9 MB 30.7 MB/s eta 0:00:01\r\u001b[K     |███████▉                        | 5.9 MB 30.7 MB/s eta 0:00:01\r\u001b[K     |███████▉                        | 5.9 MB 30.7 MB/s eta 0:00:01\r\u001b[K     |███████▉                        | 5.9 MB 30.7 MB/s eta 0:00:01\r\u001b[K     |███████▉                        | 5.9 MB 30.7 MB/s eta 0:00:01\r\u001b[K     |███████▉                        | 5.9 MB 30.7 MB/s eta 0:00:01\r\u001b[K     |███████▉                        | 5.9 MB 30.7 MB/s eta 0:00:01\r\u001b[K     |███████▉                        | 5.9 MB 30.7 MB/s eta 0:00:01\r\u001b[K     |████████                        | 5.9 MB 30.7 MB/s eta 0:00:01\r\u001b[K     |████████                        | 5.9 MB 30.7 MB/s eta 0:00:01\r\u001b[K     |████████                        | 6.0 MB 30.7 MB/s eta 0:00:01\r\u001b[K     |████████                        | 6.0 MB 30.7 MB/s eta 0:00:01\r\u001b[K     |████████                        | 6.0 MB 30.7 MB/s eta 0:00:01\r\u001b[K     |████████                        | 6.0 MB 30.7 MB/s eta 0:00:01\r\u001b[K     |████████                        | 6.0 MB 30.7 MB/s eta 0:00:01\r\u001b[K     |████████                        | 6.0 MB 30.7 MB/s eta 0:00:01\r\u001b[K     |████████                        | 6.0 MB 30.7 MB/s eta 0:00:01\r\u001b[K     |████████                        | 6.0 MB 30.7 MB/s eta 0:00:01\r\u001b[K     |████████                        | 6.0 MB 30.7 MB/s eta 0:00:01\r\u001b[K     |████████                        | 6.1 MB 30.7 MB/s eta 0:00:01\r\u001b[K     |████████                        | 6.1 MB 30.7 MB/s eta 0:00:01\r\u001b[K     |████████                        | 6.1 MB 30.7 MB/s eta 0:00:01\r\u001b[K     |████████                        | 6.1 MB 30.7 MB/s eta 0:00:01\r\u001b[K     |████████                        | 6.1 MB 30.7 MB/s eta 0:00:01\r\u001b[K     |████████                        | 6.1 MB 30.7 MB/s eta 0:00:01\r\u001b[K     |████████▏                       | 6.1 MB 30.7 MB/s eta 0:00:01\r\u001b[K     |████████▏                       | 6.1 MB 30.7 MB/s eta 0:00:01\r\u001b[K     |████████▏                       | 6.1 MB 30.7 MB/s eta 0:00:01\r\u001b[K     |████████▏                       | 6.1 MB 30.7 MB/s eta 0:00:01\r\u001b[K     |████████▏                       | 6.2 MB 30.7 MB/s eta 0:00:01\r\u001b[K     |████████▏                       | 6.2 MB 30.7 MB/s eta 0:00:01\r\u001b[K     |████████▏                       | 6.2 MB 30.7 MB/s eta 0:00:01\r\u001b[K     |████████▏                       | 6.2 MB 30.7 MB/s eta 0:00:01\r\u001b[K     |████████▎                       | 6.2 MB 30.7 MB/s eta 0:00:01\r\u001b[K     |████████▎                       | 6.2 MB 30.7 MB/s eta 0:00:01\r\u001b[K     |████████▎                       | 6.2 MB 30.7 MB/s eta 0:00:01\r\u001b[K     |████████▎                       | 6.2 MB 30.7 MB/s eta 0:00:01\r\u001b[K     |████████▎                       | 6.2 MB 30.7 MB/s eta 0:00:01\r\u001b[K     |████████▎                       | 6.2 MB 30.7 MB/s eta 0:00:01\r\u001b[K     |████████▎                       | 6.3 MB 30.7 MB/s eta 0:00:01\r\u001b[K     |████████▎                       | 6.3 MB 30.7 MB/s eta 0:00:01\r\u001b[K     |████████▍                       | 6.3 MB 30.7 MB/s eta 0:00:01"
     ]
    },
    {
     "name": "stdout",
     "output_type": "stream",
     "text": [
      "\r\u001b[K     |████████▍                       | 6.3 MB 30.7 MB/s eta 0:00:01\r\u001b[K     |████████▍                       | 6.3 MB 30.7 MB/s eta 0:00:01\r\u001b[K     |████████▍                       | 6.3 MB 30.7 MB/s eta 0:00:01\r\u001b[K     |████████▍                       | 6.3 MB 30.7 MB/s eta 0:00:01\r\u001b[K     |████████▍                       | 6.3 MB 30.7 MB/s eta 0:00:01\r\u001b[K     |████████▍                       | 6.3 MB 30.7 MB/s eta 0:00:01\r\u001b[K     |████████▍                       | 6.3 MB 30.7 MB/s eta 0:00:01\r\u001b[K     |████████▌                       | 6.4 MB 30.7 MB/s eta 0:00:01\r\u001b[K     |████████▌                       | 6.4 MB 30.7 MB/s eta 0:00:01\r\u001b[K     |████████▌                       | 6.4 MB 30.7 MB/s eta 0:00:01\r\u001b[K     |████████▌                       | 6.4 MB 30.7 MB/s eta 0:00:01\r\u001b[K     |████████▌                       | 6.4 MB 30.7 MB/s eta 0:00:01\r\u001b[K     |████████▌                       | 6.4 MB 30.7 MB/s eta 0:00:01\r\u001b[K     |████████▌                       | 6.4 MB 30.7 MB/s eta 0:00:01\r\u001b[K     |████████▌                       | 6.4 MB 30.7 MB/s eta 0:00:01\r\u001b[K     |████████▋                       | 6.4 MB 30.7 MB/s eta 0:00:01\r\u001b[K     |████████▋                       | 6.5 MB 30.7 MB/s eta 0:00:01\r\u001b[K     |████████▋                       | 6.5 MB 30.7 MB/s eta 0:00:01\r\u001b[K     |████████▋                       | 6.5 MB 30.7 MB/s eta 0:00:01\r\u001b[K     |████████▋                       | 6.5 MB 30.7 MB/s eta 0:00:01\r\u001b[K     |████████▋                       | 6.5 MB 30.7 MB/s eta 0:00:01\r\u001b[K     |████████▋                       | 6.5 MB 30.7 MB/s eta 0:00:01\r\u001b[K     |████████▋                       | 6.5 MB 30.7 MB/s eta 0:00:01\r\u001b[K     |████████▋                       | 6.5 MB 30.7 MB/s eta 0:00:01\r\u001b[K     |████████▊                       | 6.5 MB 30.7 MB/s eta 0:00:01\r\u001b[K     |████████▊                       | 6.5 MB 30.7 MB/s eta 0:00:01\r\u001b[K     |████████▊                       | 6.6 MB 30.7 MB/s eta 0:00:01\r\u001b[K     |████████▊                       | 6.6 MB 30.7 MB/s eta 0:00:01\r\u001b[K     |████████▊                       | 6.6 MB 30.7 MB/s eta 0:00:01\r\u001b[K     |████████▊                       | 6.6 MB 30.7 MB/s eta 0:00:01\r\u001b[K     |████████▊                       | 6.6 MB 30.7 MB/s eta 0:00:01\r\u001b[K     |████████▊                       | 6.6 MB 30.7 MB/s eta 0:00:01\r\u001b[K     |████████▉                       | 6.6 MB 30.7 MB/s eta 0:00:01\r\u001b[K     |████████▉                       | 6.6 MB 30.7 MB/s eta 0:00:01\r\u001b[K     |████████▉                       | 6.6 MB 30.7 MB/s eta 0:00:01\r\u001b[K     |████████▉                       | 6.6 MB 30.7 MB/s eta 0:00:01\r\u001b[K     |████████▉                       | 6.7 MB 30.7 MB/s eta 0:00:01\r\u001b[K     |████████▉                       | 6.7 MB 30.7 MB/s eta 0:00:01\r\u001b[K     |████████▉                       | 6.7 MB 30.7 MB/s eta 0:00:01\r\u001b[K     |████████▉                       | 6.7 MB 30.7 MB/s eta 0:00:01\r\u001b[K     |█████████                       | 6.7 MB 30.7 MB/s eta 0:00:01\r\u001b[K     |█████████                       | 6.7 MB 30.7 MB/s eta 0:00:01\r\u001b[K     |█████████                       | 6.7 MB 30.7 MB/s eta 0:00:01\r\u001b[K     |█████████                       | 6.7 MB 30.7 MB/s eta 0:00:01\r\u001b[K     |█████████                       | 6.7 MB 30.7 MB/s eta 0:00:01\r\u001b[K     |█████████                       | 6.7 MB 30.7 MB/s eta 0:00:01\r\u001b[K     |█████████                       | 6.8 MB 30.7 MB/s eta 0:00:01\r\u001b[K     |█████████                       | 6.8 MB 30.7 MB/s eta 0:00:01\r\u001b[K     |█████████                       | 6.8 MB 30.7 MB/s eta 0:00:01\r\u001b[K     |█████████                       | 6.8 MB 30.7 MB/s eta 0:00:01\r\u001b[K     |█████████                       | 6.8 MB 30.7 MB/s eta 0:00:01\r\u001b[K     |█████████                       | 6.8 MB 30.7 MB/s eta 0:00:01\r\u001b[K     |█████████                       | 6.8 MB 30.7 MB/s eta 0:00:01\r\u001b[K     |█████████                       | 6.8 MB 30.7 MB/s eta 0:00:01\r\u001b[K     |█████████                       | 6.8 MB 30.7 MB/s eta 0:00:01\r\u001b[K     |█████████                       | 6.9 MB 30.7 MB/s eta 0:00:01\r\u001b[K     |█████████▏                      | 6.9 MB 30.7 MB/s eta 0:00:01\r\u001b[K     |█████████▏                      | 6.9 MB 30.7 MB/s eta 0:00:01\r\u001b[K     |█████████▏                      | 6.9 MB 30.7 MB/s eta 0:00:01\r\u001b[K     |█████████▏                      | 6.9 MB 30.7 MB/s eta 0:00:01\r\u001b[K     |█████████▏                      | 6.9 MB 30.7 MB/s eta 0:00:01\r\u001b[K     |█████████▏                      | 6.9 MB 30.7 MB/s eta 0:00:01\r\u001b[K     |█████████▏                      | 6.9 MB 30.7 MB/s eta 0:00:01\r\u001b[K     |█████████▏                      | 6.9 MB 30.7 MB/s eta 0:00:01\r\u001b[K     |█████████▎                      | 6.9 MB 30.7 MB/s eta 0:00:01\r\u001b[K     |█████████▎                      | 7.0 MB 30.7 MB/s eta 0:00:01\r\u001b[K     |█████████▎                      | 7.0 MB 30.7 MB/s eta 0:00:01\r\u001b[K     |█████████▎                      | 7.0 MB 30.7 MB/s eta 0:00:01\r\u001b[K     |█████████▎                      | 7.0 MB 30.7 MB/s eta 0:00:01\r\u001b[K     |█████████▎                      | 7.0 MB 30.7 MB/s eta 0:00:01\r\u001b[K     |█████████▎                      | 7.0 MB 30.7 MB/s eta 0:00:01\r\u001b[K     |█████████▎                      | 7.0 MB 30.7 MB/s eta 0:00:01\r\u001b[K     |█████████▎                      | 7.0 MB 30.7 MB/s eta 0:00:01\r\u001b[K     |█████████▍                      | 7.0 MB 30.7 MB/s eta 0:00:01\r\u001b[K     |█████████▍                      | 7.0 MB 30.7 MB/s eta 0:00:01\r\u001b[K     |█████████▍                      | 7.1 MB 30.7 MB/s eta 0:00:01\r\u001b[K     |█████████▍                      | 7.1 MB 30.7 MB/s eta 0:00:01\r\u001b[K     |█████████▍                      | 7.1 MB 30.7 MB/s eta 0:00:01\r\u001b[K     |█████████▍                      | 7.1 MB 30.7 MB/s eta 0:00:01\r\u001b[K     |█████████▍                      | 7.1 MB 30.7 MB/s eta 0:00:01\r\u001b[K     |█████████▍                      | 7.1 MB 30.7 MB/s eta 0:00:01\r\u001b[K     |█████████▌                      | 7.1 MB 30.7 MB/s eta 0:00:01\r\u001b[K     |█████████▌                      | 7.1 MB 30.7 MB/s eta 0:00:01\r\u001b[K     |█████████▌                      | 7.1 MB 30.7 MB/s eta 0:00:01\r\u001b[K     |█████████▌                      | 7.1 MB 30.7 MB/s eta 0:00:01\r\u001b[K     |█████████▌                      | 7.2 MB 30.7 MB/s eta 0:00:01\r\u001b[K     |█████████▌                      | 7.2 MB 30.7 MB/s eta 0:00:01\r\u001b[K     |█████████▌                      | 7.2 MB 30.7 MB/s eta 0:00:01\r\u001b[K     |█████████▌                      | 7.2 MB 30.7 MB/s eta 0:00:01\r\u001b[K     |█████████▋                      | 7.2 MB 30.7 MB/s eta 0:00:01\r\u001b[K     |█████████▋                      | 7.2 MB 30.7 MB/s eta 0:00:01\r\u001b[K     |█████████▋                      | 7.2 MB 30.7 MB/s eta 0:00:01\r\u001b[K     |█████████▋                      | 7.2 MB 30.7 MB/s eta 0:00:01\r\u001b[K     |█████████▋                      | 7.2 MB 30.7 MB/s eta 0:00:01\r\u001b[K     |█████████▋                      | 7.2 MB 30.7 MB/s eta 0:00:01\r\u001b[K     |█████████▋                      | 7.3 MB 30.7 MB/s eta 0:00:01\r\u001b[K     |█████████▋                      | 7.3 MB 30.7 MB/s eta 0:00:01\r\u001b[K     |█████████▊                      | 7.3 MB 30.7 MB/s eta 0:00:01\r\u001b[K     |█████████▊                      | 7.3 MB 30.7 MB/s eta 0:00:01\r\u001b[K     |█████████▊                      | 7.3 MB 30.7 MB/s eta 0:00:01\r\u001b[K     |█████████▊                      | 7.3 MB 30.7 MB/s eta 0:00:01\r\u001b[K     |█████████▊                      | 7.3 MB 30.7 MB/s eta 0:00:01\r\u001b[K     |█████████▊                      | 7.3 MB 30.7 MB/s eta 0:00:01\r\u001b[K     |█████████▊                      | 7.3 MB 30.7 MB/s eta 0:00:01\r\u001b[K     |█████████▊                      | 7.4 MB 30.7 MB/s eta 0:00:01\r\u001b[K     |█████████▉                      | 7.4 MB 30.7 MB/s eta 0:00:01\r\u001b[K     |█████████▉                      | 7.4 MB 30.7 MB/s eta 0:00:01\r\u001b[K     |█████████▉                      | 7.4 MB 30.7 MB/s eta 0:00:01\r\u001b[K     |█████████▉                      | 7.4 MB 30.7 MB/s eta 0:00:01\r\u001b[K     |█████████▉                      | 7.4 MB 30.7 MB/s eta 0:00:01\r\u001b[K     |█████████▉                      | 7.4 MB 30.7 MB/s eta 0:00:01\r\u001b[K     |█████████▉                      | 7.4 MB 30.7 MB/s eta 0:00:01\r\u001b[K     |█████████▉                      | 7.4 MB 30.7 MB/s eta 0:00:01\r\u001b[K     |██████████                      | 7.4 MB 30.7 MB/s eta 0:00:01\r\u001b[K     |██████████                      | 7.5 MB 30.7 MB/s eta 0:00:01\r\u001b[K     |██████████                      | 7.5 MB 30.7 MB/s eta 0:00:01\r\u001b[K     |██████████                      | 7.5 MB 30.7 MB/s eta 0:00:01\r\u001b[K     |██████████                      | 7.5 MB 30.7 MB/s eta 0:00:01\r\u001b[K     |██████████                      | 7.5 MB 30.7 MB/s eta 0:00:01\r\u001b[K     |██████████                      | 7.5 MB 30.7 MB/s eta 0:00:01\r\u001b[K     |██████████                      | 7.5 MB 30.7 MB/s eta 0:00:01\r\u001b[K     |██████████                      | 7.5 MB 30.7 MB/s eta 0:00:01\r\u001b[K     |██████████                      | 7.5 MB 30.7 MB/s eta 0:00:01\r\u001b[K     |██████████                      | 7.5 MB 30.7 MB/s eta 0:00:01\r\u001b[K     |██████████                      | 7.6 MB 30.7 MB/s eta 0:00:01\r\u001b[K     |██████████                      | 7.6 MB 30.7 MB/s eta 0:00:01\r\u001b[K     |██████████                      | 7.6 MB 30.7 MB/s eta 0:00:01\r\u001b[K     |██████████                      | 7.6 MB 30.7 MB/s eta 0:00:01\r\u001b[K     |██████████                      | 7.6 MB 30.7 MB/s eta 0:00:01\r\u001b[K     |██████████                      | 7.6 MB 30.7 MB/s eta 0:00:01\r\u001b[K     |██████████▏                     | 7.6 MB 30.7 MB/s eta 0:00:01\r\u001b[K     |██████████▏                     | 7.6 MB 30.7 MB/s eta 0:00:01\r\u001b[K     |██████████▏                     | 7.6 MB 30.7 MB/s eta 0:00:01\r\u001b[K     |██████████▏                     | 7.6 MB 30.7 MB/s eta 0:00:01\r\u001b[K     |██████████▏                     | 7.7 MB 30.7 MB/s eta 0:00:01\r\u001b[K     |██████████▏                     | 7.7 MB 30.7 MB/s eta 0:00:01\r\u001b[K     |██████████▏                     | 7.7 MB 30.7 MB/s eta 0:00:01\r\u001b[K     |██████████▏                     | 7.7 MB 30.7 MB/s eta 0:00:01\r\u001b[K     |██████████▎                     | 7.7 MB 30.7 MB/s eta 0:00:01\r\u001b[K     |██████████▎                     | 7.7 MB 30.7 MB/s eta 0:00:01\r\u001b[K     |██████████▎                     | 7.7 MB 30.7 MB/s eta 0:00:01\r\u001b[K     |██████████▎                     | 7.7 MB 30.7 MB/s eta 0:00:01\r\u001b[K     |██████████▎                     | 7.7 MB 30.7 MB/s eta 0:00:01\r\u001b[K     |██████████▎                     | 7.8 MB 30.7 MB/s eta 0:00:01\r\u001b[K     |██████████▎                     | 7.8 MB 30.7 MB/s eta 0:00:01\r\u001b[K     |██████████▎                     | 7.8 MB 30.7 MB/s eta 0:00:01\r\u001b[K     |██████████▍                     | 7.8 MB 30.7 MB/s eta 0:00:01\r\u001b[K     |██████████▍                     | 7.8 MB 30.7 MB/s eta 0:00:01\r\u001b[K     |██████████▍                     | 7.8 MB 30.7 MB/s eta 0:00:01\r\u001b[K     |██████████▍                     | 7.8 MB 30.7 MB/s eta 0:00:01\r\u001b[K     |██████████▍                     | 7.8 MB 30.7 MB/s eta 0:00:01\r\u001b[K     |██████████▍                     | 7.8 MB 30.7 MB/s eta 0:00:01\r\u001b[K     |██████████▍                     | 7.8 MB 30.7 MB/s eta 0:00:01\r\u001b[K     |██████████▍                     | 7.9 MB 30.7 MB/s eta 0:00:01\r\u001b[K     |██████████▌                     | 7.9 MB 30.7 MB/s eta 0:00:01\r\u001b[K     |██████████▌                     | 7.9 MB 30.7 MB/s eta 0:00:01\r\u001b[K     |██████████▌                     | 7.9 MB 30.7 MB/s eta 0:00:01\r\u001b[K     |██████████▌                     | 7.9 MB 30.7 MB/s eta 0:00:01\r\u001b[K     |██████████▌                     | 7.9 MB 30.7 MB/s eta 0:00:01\r\u001b[K     |██████████▌                     | 7.9 MB 30.7 MB/s eta 0:00:01\r\u001b[K     |██████████▌                     | 7.9 MB 30.7 MB/s eta 0:00:01\r\u001b[K     |██████████▌                     | 7.9 MB 30.7 MB/s eta 0:00:01\r\u001b[K     |██████████▋                     | 7.9 MB 30.7 MB/s eta 0:00:01\r\u001b[K     |██████████▋                     | 8.0 MB 30.7 MB/s eta 0:00:01\r\u001b[K     |██████████▋                     | 8.0 MB 30.7 MB/s eta 0:00:01\r\u001b[K     |██████████▋                     | 8.0 MB 30.7 MB/s eta 0:00:01\r\u001b[K     |██████████▋                     | 8.0 MB 30.7 MB/s eta 0:00:01\r\u001b[K     |██████████▋                     | 8.0 MB 30.7 MB/s eta 0:00:01\r\u001b[K     |██████████▋                     | 8.0 MB 30.7 MB/s eta 0:00:01\r\u001b[K     |██████████▋                     | 8.0 MB 30.7 MB/s eta 0:00:01\r\u001b[K     |██████████▋                     | 8.0 MB 30.7 MB/s eta 0:00:01\r\u001b[K     |██████████▊                     | 8.0 MB 30.7 MB/s eta 0:00:01\r\u001b[K     |██████████▊                     | 8.0 MB 30.7 MB/s eta 0:00:01\r\u001b[K     |██████████▊                     | 8.1 MB 30.7 MB/s eta 0:00:01\r\u001b[K     |██████████▊                     | 8.1 MB 30.7 MB/s eta 0:00:01\r\u001b[K     |██████████▊                     | 8.1 MB 30.7 MB/s eta 0:00:01\r\u001b[K     |██████████▊                     | 8.1 MB 30.7 MB/s eta 0:00:01\r\u001b[K     |██████████▊                     | 8.1 MB 30.7 MB/s eta 0:00:01\r\u001b[K     |██████████▊                     | 8.1 MB 30.7 MB/s eta 0:00:01\r\u001b[K     |██████████▉                     | 8.1 MB 30.7 MB/s eta 0:00:01\r\u001b[K     |██████████▉                     | 8.1 MB 30.7 MB/s eta 0:00:01\r\u001b[K     |██████████▉                     | 8.1 MB 30.7 MB/s eta 0:00:01\r\u001b[K     |██████████▉                     | 8.2 MB 30.7 MB/s eta 0:00:01\r\u001b[K     |██████████▉                     | 8.2 MB 30.7 MB/s eta 0:00:01\r\u001b[K     |██████████▉                     | 8.2 MB 30.7 MB/s eta 0:00:01\r\u001b[K     |██████████▉                     | 8.2 MB 30.7 MB/s eta 0:00:01\r\u001b[K     |██████████▉                     | 8.2 MB 30.7 MB/s eta 0:00:01\r\u001b[K     |███████████                     | 8.2 MB 30.7 MB/s eta 0:00:01\r\u001b[K     |███████████                     | 8.2 MB 30.7 MB/s eta 0:00:01\r\u001b[K     |███████████                     | 8.2 MB 30.7 MB/s eta 0:00:01\r\u001b[K     |███████████                     | 8.2 MB 30.7 MB/s eta 0:00:01\r\u001b[K     |███████████                     | 8.2 MB 30.7 MB/s eta 0:00:01\r\u001b[K     |███████████                     | 8.3 MB 30.7 MB/s eta 0:00:01\r\u001b[K     |███████████                     | 8.3 MB 30.7 MB/s eta 0:00:01\r\u001b[K     |███████████                     | 8.3 MB 30.7 MB/s eta 0:00:01\r\u001b[K     |███████████                     | 8.3 MB 30.7 MB/s eta 0:00:01\r\u001b[K     |███████████                     | 8.3 MB 30.7 MB/s eta 0:00:01\r\u001b[K     |███████████                     | 8.3 MB 30.7 MB/s eta 0:00:01\r\u001b[K     |███████████                     | 8.3 MB 30.7 MB/s eta 0:00:01\r\u001b[K     |███████████                     | 8.3 MB 30.7 MB/s eta 0:00:01\r\u001b[K     |███████████                     | 8.3 MB 30.7 MB/s eta 0:00:01\r\u001b[K     |███████████                     | 8.3 MB 30.7 MB/s eta 0:00:01\r\u001b[K     |███████████                     | 8.4 MB 30.7 MB/s eta 0:00:01\r\u001b[K     |███████████▏                    | 8.4 MB 30.7 MB/s eta 0:00:01\r\u001b[K     |███████████▏                    | 8.4 MB 30.7 MB/s eta 0:00:01\r\u001b[K     |███████████▏                    | 8.4 MB 30.7 MB/s eta 0:00:01\r\u001b[K     |███████████▏                    | 8.4 MB 30.7 MB/s eta 0:00:01\r\u001b[K     |███████████▏                    | 8.4 MB 30.7 MB/s eta 0:00:01\r\u001b[K     |███████████▏                    | 8.4 MB 30.7 MB/s eta 0:00:01\r\u001b[K     |███████████▏                    | 8.4 MB 30.7 MB/s eta 0:00:01\r\u001b[K     |███████████▏                    | 8.4 MB 30.7 MB/s eta 0:00:01\r\u001b[K     |███████████▎                    | 8.4 MB 30.7 MB/s eta 0:00:01\r\u001b[K     |███████████▎                    | 8.5 MB 30.7 MB/s eta 0:00:01\r\u001b[K     |███████████▎                    | 8.5 MB 30.7 MB/s eta 0:00:01\r\u001b[K     |███████████▎                    | 8.5 MB 30.7 MB/s eta 0:00:01\r\u001b[K     |███████████▎                    | 8.5 MB 30.7 MB/s eta 0:00:01\r\u001b[K     |███████████▎                    | 8.5 MB 30.7 MB/s eta 0:00:01\r\u001b[K     |███████████▎                    | 8.5 MB 30.7 MB/s eta 0:00:01\r\u001b[K     |███████████▎                    | 8.5 MB 30.7 MB/s eta 0:00:01\r\u001b[K     |███████████▎                    | 8.5 MB 30.7 MB/s eta 0:00:01\r\u001b[K     |███████████▍                    | 8.5 MB 30.7 MB/s eta 0:00:01\r\u001b[K     |███████████▍                    | 8.6 MB 30.7 MB/s eta 0:00:01\r\u001b[K     |███████████▍                    | 8.6 MB 30.7 MB/s eta 0:00:01\r\u001b[K     |███████████▍                    | 8.6 MB 30.7 MB/s eta 0:00:01\r\u001b[K     |███████████▍                    | 8.6 MB 30.7 MB/s eta 0:00:01\r\u001b[K     |███████████▍                    | 8.6 MB 30.7 MB/s eta 0:00:01\r\u001b[K     |███████████▍                    | 8.6 MB 30.7 MB/s eta 0:00:01\r\u001b[K     |███████████▍                    | 8.6 MB 30.7 MB/s eta 0:00:01\r\u001b[K     |███████████▌                    | 8.6 MB 30.7 MB/s eta 0:00:01\r\u001b[K     |███████████▌                    | 8.6 MB 30.7 MB/s eta 0:00:01\r\u001b[K     |███████████▌                    | 8.6 MB 30.7 MB/s eta 0:00:01\r\u001b[K     |███████████▌                    | 8.7 MB 30.7 MB/s eta 0:00:01\r\u001b[K     |███████████▌                    | 8.7 MB 30.7 MB/s eta 0:00:01\r\u001b[K     |███████████▌                    | 8.7 MB 30.7 MB/s eta 0:00:01\r\u001b[K     |███████████▌                    | 8.7 MB 30.7 MB/s eta 0:00:01\r\u001b[K     |███████████▌                    | 8.7 MB 30.7 MB/s eta 0:00:01\r\u001b[K     |███████████▋                    | 8.7 MB 30.7 MB/s eta 0:00:01\r\u001b[K     |███████████▋                    | 8.7 MB 30.7 MB/s eta 0:00:01\r\u001b[K     |███████████▋                    | 8.7 MB 30.7 MB/s eta 0:00:01\r\u001b[K     |███████████▋                    | 8.7 MB 30.7 MB/s eta 0:00:01\r\u001b[K     |███████████▋                    | 8.7 MB 30.7 MB/s eta 0:00:01\r\u001b[K     |███████████▋                    | 8.8 MB 30.7 MB/s eta 0:00:01\r\u001b[K     |███████████▋                    | 8.8 MB 30.7 MB/s eta 0:00:01\r\u001b[K     |███████████▋                    | 8.8 MB 30.7 MB/s eta 0:00:01\r\u001b[K     |███████████▊                    | 8.8 MB 30.7 MB/s eta 0:00:01\r\u001b[K     |███████████▊                    | 8.8 MB 30.7 MB/s eta 0:00:01\r\u001b[K     |███████████▊                    | 8.8 MB 30.7 MB/s eta 0:00:01\r\u001b[K     |███████████▊                    | 8.8 MB 30.7 MB/s eta 0:00:01\r\u001b[K     |███████████▊                    | 8.8 MB 30.7 MB/s eta 0:00:01\r\u001b[K     |███████████▊                    | 8.8 MB 30.7 MB/s eta 0:00:01\r\u001b[K     |███████████▊                    | 8.8 MB 30.7 MB/s eta 0:00:01\r\u001b[K     |███████████▊                    | 8.9 MB 30.7 MB/s eta 0:00:01\r\u001b[K     |███████████▉                    | 8.9 MB 30.7 MB/s eta 0:00:01\r\u001b[K     |███████████▉                    | 8.9 MB 30.7 MB/s eta 0:00:01\r\u001b[K     |███████████▉                    | 8.9 MB 30.7 MB/s eta 0:00:01\r\u001b[K     |███████████▉                    | 8.9 MB 30.7 MB/s eta 0:00:01\r\u001b[K     |███████████▉                    | 8.9 MB 30.7 MB/s eta 0:00:01\r\u001b[K     |███████████▉                    | 8.9 MB 30.7 MB/s eta 0:00:01\r\u001b[K     |███████████▉                    | 8.9 MB 30.7 MB/s eta 0:00:01\r\u001b[K     |███████████▉                    | 8.9 MB 30.7 MB/s eta 0:00:01\r\u001b[K     |████████████                    | 8.9 MB 30.7 MB/s eta 0:00:01\r\u001b[K     |████████████                    | 9.0 MB 30.7 MB/s eta 0:00:01\r\u001b[K     |████████████                    | 9.0 MB 30.7 MB/s eta 0:00:01\r\u001b[K     |████████████                    | 9.0 MB 30.7 MB/s eta 0:00:01\r\u001b[K     |████████████                    | 9.0 MB 30.7 MB/s eta 0:00:01\r\u001b[K     |████████████                    | 9.0 MB 30.7 MB/s eta 0:00:01\r\u001b[K     |████████████                    | 9.0 MB 30.7 MB/s eta 0:00:01\r\u001b[K     |████████████                    | 9.0 MB 30.7 MB/s eta 0:00:01\r\u001b[K     |████████████                    | 9.0 MB 30.7 MB/s eta 0:00:01\r\u001b[K     |████████████                    | 9.0 MB 30.7 MB/s eta 0:00:01\r\u001b[K     |████████████                    | 9.1 MB 30.7 MB/s eta 0:00:01\r\u001b[K     |████████████                    | 9.1 MB 30.7 MB/s eta 0:00:01\r\u001b[K     |████████████                    | 9.1 MB 30.7 MB/s eta 0:00:01\r\u001b[K     |████████████                    | 9.1 MB 30.7 MB/s eta 0:00:01\r\u001b[K     |████████████                    | 9.1 MB 30.7 MB/s eta 0:00:01\r\u001b[K     |████████████                    | 9.1 MB 30.7 MB/s eta 0:00:01\r\u001b[K     |████████████                    | 9.1 MB 30.7 MB/s eta 0:00:01\r\u001b[K     |████████████▏                   | 9.1 MB 30.7 MB/s eta 0:00:01\r\u001b[K     |████████████▏                   | 9.1 MB 30.7 MB/s eta 0:00:01\r\u001b[K     |████████████▏                   | 9.1 MB 30.7 MB/s eta 0:00:01\r\u001b[K     |████████████▏                   | 9.2 MB 30.7 MB/s eta 0:00:01\r\u001b[K     |████████████▏                   | 9.2 MB 30.7 MB/s eta 0:00:01\r\u001b[K     |████████████▏                   | 9.2 MB 30.7 MB/s eta 0:00:01\r\u001b[K     |████████████▏                   | 9.2 MB 30.7 MB/s eta 0:00:01\r\u001b[K     |████████████▏                   | 9.2 MB 30.7 MB/s eta 0:00:01\r\u001b[K     |████████████▎                   | 9.2 MB 30.7 MB/s eta 0:00:01\r\u001b[K     |████████████▎                   | 9.2 MB 30.7 MB/s eta 0:00:01\r\u001b[K     |████████████▎                   | 9.2 MB 30.7 MB/s eta 0:00:01\r\u001b[K     |████████████▎                   | 9.2 MB 30.7 MB/s eta 0:00:01\r\u001b[K     |████████████▎                   | 9.2 MB 30.7 MB/s eta 0:00:01\r\u001b[K     |████████████▎                   | 9.3 MB 30.7 MB/s eta 0:00:01\r\u001b[K     |████████████▎                   | 9.3 MB 30.7 MB/s eta 0:00:01\r\u001b[K     |████████████▎                   | 9.3 MB 30.7 MB/s eta 0:00:01\r\u001b[K     |████████████▍                   | 9.3 MB 30.7 MB/s eta 0:00:01\r\u001b[K     |████████████▍                   | 9.3 MB 30.7 MB/s eta 0:00:01\r\u001b[K     |████████████▍                   | 9.3 MB 30.7 MB/s eta 0:00:01\r\u001b[K     |████████████▍                   | 9.3 MB 30.7 MB/s eta 0:00:01\r\u001b[K     |████████████▍                   | 9.3 MB 30.7 MB/s eta 0:00:01\r\u001b[K     |████████████▍                   | 9.3 MB 30.7 MB/s eta 0:00:01\r\u001b[K     |████████████▍                   | 9.3 MB 30.7 MB/s eta 0:00:01\r\u001b[K     |████████████▍                   | 9.4 MB 30.7 MB/s eta 0:00:01\r\u001b[K     |████████████▌                   | 9.4 MB 30.7 MB/s eta 0:00:01\r\u001b[K     |████████████▌                   | 9.4 MB 30.7 MB/s eta 0:00:01\r\u001b[K     |████████████▌                   | 9.4 MB 30.7 MB/s eta 0:00:01\r\u001b[K     |████████████▌                   | 9.4 MB 30.7 MB/s eta 0:00:01\r\u001b[K     |████████████▌                   | 9.4 MB 30.7 MB/s eta 0:00:01\r\u001b[K     |████████████▌                   | 9.4 MB 30.7 MB/s eta 0:00:01\r\u001b[K     |████████████▌                   | 9.4 MB 30.7 MB/s eta 0:00:01\r\u001b[K     |████████████▌                   | 9.4 MB 30.7 MB/s eta 0:00:01\r\u001b[K     |████████████▋                   | 9.5 MB 30.7 MB/s eta 0:00:01\r\u001b[K     |████████████▋                   | 9.5 MB 30.7 MB/s eta 0:00:01\r\u001b[K     |████████████▋                   | 9.5 MB 30.7 MB/s eta 0:00:01\r\u001b[K     |████████████▋                   | 9.5 MB 30.7 MB/s eta 0:00:01\r\u001b[K     |████████████▋                   | 9.5 MB 30.7 MB/s eta 0:00:01\r\u001b[K     |████████████▋                   | 9.5 MB 30.7 MB/s eta 0:00:01\r\u001b[K     |████████████▋                   | 9.5 MB 30.7 MB/s eta 0:00:01\r\u001b[K     |████████████▋                   | 9.5 MB 30.7 MB/s eta 0:00:01\r\u001b[K     |████████████▋                   | 9.5 MB 30.7 MB/s eta 0:00:01\r\u001b[K     |████████████▊                   | 9.5 MB 30.7 MB/s eta 0:00:01\r\u001b[K     |████████████▊                   | 9.6 MB 30.7 MB/s eta 0:00:01\r\u001b[K     |████████████▊                   | 9.6 MB 30.7 MB/s eta 0:00:01\r\u001b[K     |████████████▊                   | 9.6 MB 30.7 MB/s eta 0:00:01\r\u001b[K     |████████████▊                   | 9.6 MB 30.7 MB/s eta 0:00:01\r\u001b[K     |████████████▊                   | 9.6 MB 30.7 MB/s eta 0:00:01\r\u001b[K     |████████████▊                   | 9.6 MB 30.7 MB/s eta 0:00:01\r\u001b[K     |████████████▊                   | 9.6 MB 30.7 MB/s eta 0:00:01\r\u001b[K     |████████████▉                   | 9.6 MB 30.7 MB/s eta 0:00:01\r\u001b[K     |████████████▉                   | 9.6 MB 30.7 MB/s eta 0:00:01\r\u001b[K     |████████████▉                   | 9.6 MB 30.7 MB/s eta 0:00:01\r\u001b[K     |████████████▉                   | 9.7 MB 30.7 MB/s eta 0:00:01\r\u001b[K     |████████████▉                   | 9.7 MB 30.7 MB/s eta 0:00:01\r\u001b[K     |████████████▉                   | 9.7 MB 30.7 MB/s eta 0:00:01\r\u001b[K     |████████████▉                   | 9.7 MB 30.7 MB/s eta 0:00:01\r\u001b[K     |████████████▉                   | 9.7 MB 30.7 MB/s eta 0:00:01"
     ]
    },
    {
     "name": "stderr",
     "output_type": "stream",
     "text": [
      "WARNING: Some output was deleted.\n"
     ]
    }
   ],
   "source": [
    "!pip install gensim"
   ]
  },
  {
   "cell_type": "code",
   "execution_count": 6,
   "metadata": {
    "collapsed": false
   },
   "outputs": [
    {
     "name": "stdout",
     "output_type": "stream",
     "text": [
      "Collecting wordcloud\r\n"
     ]
    },
    {
     "name": "stdout",
     "output_type": "stream",
     "text": [
      "  Downloading wordcloud-1.8.2.2-cp38-cp38-manylinux_2_17_x86_64.manylinux2014_x86_64.whl (458 kB)\r\n",
      "\u001b[?25l\r\u001b[K     |▊                               | 10 kB 14.5 MB/s eta 0:00:01\r\u001b[K     |█▍                              | 20 kB 18.0 MB/s eta 0:00:01\r\u001b[K     |██▏                             | 30 kB 20.6 MB/s eta 0:00:01\r\u001b[K     |██▉                             | 40 kB 23.2 MB/s eta 0:00:01\r\u001b[K     |███▋                            | 51 kB 21.6 MB/s eta 0:00:01\r\u001b[K     |████▎                           | 61 kB 24.1 MB/s eta 0:00:01\r\u001b[K     |█████                           | 71 kB 24.5 MB/s eta 0:00:01\r\u001b[K     |█████▊                          | 81 kB 25.2 MB/s eta 0:00:01\r\u001b[K     |██████▍                         | 92 kB 26.4 MB/s eta 0:00:01\r\u001b[K     |███████▏                        | 102 kB 23.3 MB/s eta 0:00:01\r\u001b[K     |███████▉                        | 112 kB 23.3 MB/s eta 0:00:01\r\u001b[K     |████████▋                       | 122 kB 23.3 MB/s eta 0:00:01\r\u001b[K     |█████████▎                      | 133 kB 23.3 MB/s eta 0:00:01\r\u001b[K     |██████████                      | 143 kB 23.3 MB/s eta 0:00:01\r\u001b[K     |██████████▊                     | 153 kB 23.3 MB/s eta 0:00:01\r\u001b[K     |███████████▍                    | 163 kB 23.3 MB/s eta 0:00:01\r\u001b[K     |████████████▏                   | 174 kB 23.3 MB/s eta 0:00:01\r\u001b[K     |████████████▉                   | 184 kB 23.3 MB/s eta 0:00:01\r\u001b[K     |█████████████▋                  | 194 kB 23.3 MB/s eta 0:00:01\r\u001b[K     |██████████████▎                 | 204 kB 23.3 MB/s eta 0:00:01\r\u001b[K     |███████████████                 | 215 kB 23.3 MB/s eta 0:00:01\r\u001b[K     |███████████████▊                | 225 kB 23.3 MB/s eta 0:00:01\r\u001b[K     |████████████████▍               | 235 kB 23.3 MB/s eta 0:00:01\r\u001b[K     |█████████████████▏              | 245 kB 23.3 MB/s eta 0:00:01\r\u001b[K     |█████████████████▉              | 256 kB 23.3 MB/s eta 0:00:01\r\u001b[K     |██████████████████▋             | 266 kB 23.3 MB/s eta 0:00:01\r\u001b[K     |███████████████████▎            | 276 kB 23.3 MB/s eta 0:00:01\r\u001b[K     |████████████████████            | 286 kB 23.3 MB/s eta 0:00:01\r\u001b[K     |████████████████████▊           | 296 kB 23.3 MB/s eta 0:00:01\r\u001b[K     |█████████████████████▍          | 307 kB 23.3 MB/s eta 0:00:01\r\u001b[K     |██████████████████████▏         | 317 kB 23.3 MB/s eta 0:00:01\r\u001b[K     |██████████████████████▉         | 327 kB 23.3 MB/s eta 0:00:01\r\u001b[K     |███████████████████████▋        | 337 kB 23.3 MB/s eta 0:00:01\r\u001b[K     |████████████████████████▎       | 348 kB 23.3 MB/s eta 0:00:01\r\u001b[K     |█████████████████████████       | 358 kB 23.3 MB/s eta 0:00:01\r\u001b[K     |█████████████████████████▊      | 368 kB 23.3 MB/s eta 0:00:01\r\u001b[K     |██████████████████████████▍     | 378 kB 23.3 MB/s eta 0:00:01\r\u001b[K     |███████████████████████████▏    | 389 kB 23.3 MB/s eta 0:00:01\r\u001b[K     |███████████████████████████▉    | 399 kB 23.3 MB/s eta 0:00:01\r\u001b[K     |████████████████████████████▋   | 409 kB 23.3 MB/s eta 0:00:01\r\u001b[K     |█████████████████████████████▎  | 419 kB 23.3 MB/s eta 0:00:01\r\u001b[K     |██████████████████████████████  | 430 kB 23.3 MB/s eta 0:00:01\r\u001b[K     |██████████████████████████████▊ | 440 kB 23.3 MB/s eta 0:00:01\r\u001b[K     |███████████████████████████████▍| 450 kB 23.3 MB/s eta 0:00:01\r\u001b[K     |████████████████████████████████| 458 kB 23.3 MB/s \r\n"
     ]
    },
    {
     "name": "stdout",
     "output_type": "stream",
     "text": [
      "\u001b[?25hRequirement already satisfied: pillow in /usr/local/lib/python3.8/dist-packages (from wordcloud) (9.1.0)\r\n",
      "Requirement already satisfied: matplotlib in /usr/lib/python3/dist-packages (from wordcloud) (3.1.2)\r\n",
      "Requirement already satisfied: numpy>=1.6.1 in /usr/local/lib/python3.8/dist-packages (from wordcloud) (1.22.3)\r\n"
     ]
    },
    {
     "name": "stdout",
     "output_type": "stream",
     "text": [
      "Installing collected packages: wordcloud\r\n"
     ]
    },
    {
     "name": "stdout",
     "output_type": "stream",
     "text": [
      "Successfully installed wordcloud-1.8.2.2\r\n"
     ]
    }
   ],
   "source": [
    "!pip install wordcloud"
   ]
  },
  {
   "cell_type": "code",
   "execution_count": 7,
   "metadata": {
    "collapsed": false
   },
   "outputs": [
    {
     "name": "stderr",
     "output_type": "stream",
     "text": [
      "[nltk_data] Downloading package punkt to /projects/6a848d56-5da1-43fb-\n",
      "[nltk_data]     bfc9-9172977ceeb4/nltk_data...\n",
      "[nltk_data]   Package punkt is already up-to-date!\n"
     ]
    }
   ],
   "source": [
    "# Install gensim - pip install gensim\n",
    "import nltk\n",
    "from gensim.models import Word2Vec\n",
    "import matplotlib.pyplot as plt\n",
    "nltk.download('punkt')\n",
    "from wordcloud import WordCloud"
   ]
  },
  {
   "cell_type": "code",
   "execution_count": 0,
   "metadata": {
    "collapsed": false
   },
   "outputs": [
   ],
   "source": [
    "#Let's go ahead and create a list that's formatted how word2vec needs:\n",
    "    # a list of lists where the ith entry in the list is the word tokenizaiton of the ith sentence (after preprocessing)"
   ]
  },
  {
   "cell_type": "code",
   "execution_count": 0,
   "metadata": {
    "collapsed": false
   },
   "outputs": [
   ],
   "source": [
    "# print the tokenized list of lists"
   ]
  },
  {
   "cell_type": "markdown",
   "metadata": {
    "collapsed": false
   },
   "source": [
    "## Training the Word2Vec model\n",
    "\n",
    "For this part you may want to follow a guide [here](https://radimrehurek.com/gensim/models/word2vec.html). "
   ]
  },
  {
   "cell_type": "code",
   "execution_count": 0,
   "metadata": {
    "collapsed": false
   },
   "outputs": [
   ],
   "source": [
    "''' Training the Word2Vec model. You should pass:\n",
    "1. a list of lists where the ith entry in the list is the word tokenizaiton of the ith sentence\n",
    "2. min_count=1 --> Ignores all words with total frequency lower than 1 (i.e., include everything).\n",
    "'''\n",
    "# create the model\n",
    "model = Word2Vec(tokenized, min_count=1)\n",
    "# get the most common words of the model (it's entire vocabulary)\n",
    "most_common_words = model.wv.index_to_key\n",
    "# save the model to use it later\n",
    "model.save('word2vec.model')\n",
    "# model = Word2Vec.load(\"word2vec.model\")"
   ]
  },
  {
   "cell_type": "code",
   "execution_count": 0,
   "metadata": {
    "collapsed": false
   },
   "outputs": [
   ],
   "source": [
    "#print the first 10 most common words."
   ]
  },
  {
   "cell_type": "code",
   "execution_count": 0,
   "metadata": {
    "collapsed": false
   },
   "outputs": [
   ],
   "source": [
    "# Look up the most similar words to certain words in your text using the model.wv.most_similar() function"
   ]
  },
  {
   "cell_type": "code",
   "execution_count": 0,
   "metadata": {
    "collapsed": false
   },
   "outputs": [
   ],
   "source": [
   ]
  },
  {
   "cell_type": "markdown",
   "metadata": {
    "collapsed": false
   },
   "source": [
    "## Testing our model"
   ]
  },
  {
   "cell_type": "code",
   "execution_count": 0,
   "metadata": {
    "collapsed": false
   },
   "outputs": [
   ],
   "source": [
    "    # Finding Word Vectors - print word vectors for certain words in your text\n"
   ]
  },
  {
   "cell_type": "code",
   "execution_count": 0,
   "metadata": {
    "collapsed": false
   },
   "outputs": [
   ],
   "source": [
    "    ### Finding the most similar words in the model ###\n"
   ]
  },
  {
   "cell_type": "code",
   "execution_count": 0,
   "metadata": {
    "collapsed": false
   },
   "outputs": [
   ],
   "source": [
   ]
  },
  {
   "cell_type": "code",
   "execution_count": 0,
   "metadata": {
    "collapsed": false
   },
   "outputs": [
   ],
   "source": [
    "similar1, similar2"
   ]
  },
  {
   "cell_type": "code",
   "execution_count": 0,
   "metadata": {
    "collapsed": false
   },
   "outputs": [
   ],
   "source": [
    "# code to print a wordcloud for your sentences\n",
    "wordcloud = WordCloud(\n",
    "                        background_color='white',\n",
    "                        max_words=100,\n",
    "                        max_font_size=50, \n",
    "                        random_state=42\n",
    "                        ).generate(str(sentences))\n",
    "fig = plt.figure(1)\n",
    "plt.figure(figsize=(10,10))\n",
    "plt.imshow(wordcloud, interpolation=\"bilinear\")\n",
    "plt.axis('off')\n",
    "plt.show()"
   ]
  },
  {
   "cell_type": "markdown",
   "metadata": {
    "collapsed": false
   },
   "source": [
    "### Why did we do all this work?"
   ]
  },
  {
   "cell_type": "code",
   "execution_count": 0,
   "metadata": {
    "collapsed": false
   },
   "outputs": [
   ],
   "source": [
    "# reFetching the data\n",
    "lame_text = \"\"\n",
    "for paragraph in soup.find_all('p'): #The <p> tag defines a paragraph in the webpages\n",
    "    lame_text += paragraph.text"
   ]
  },
  {
   "cell_type": "code",
   "execution_count": 0,
   "metadata": {
    "collapsed": false
   },
   "outputs": [
   ],
   "source": [
    "'''\n",
    "Doing the same without removing stop words or lemming\n",
    "'''\n",
    "# tokenize the text using sent_tokenize\n",
    "\n",
    "# from this list of sentences, create a list of lists where the ith entry in the list is the word tokenizaiton of the ith sentence (after preprocessing)"
   ]
  },
  {
   "cell_type": "code",
   "execution_count": 0,
   "metadata": {
    "collapsed": false
   },
   "outputs": [
   ],
   "source": [
    "# Redo the word cloud but set stopwords to empty so it looks really bad\n",
    "wordcloud = WordCloud(\n",
    "                        background_color='white',\n",
    "                        max_words=100,\n",
    "                        max_font_size=50, \n",
    "                        random_state=42, ###SET STOPWORDS = [] and/or include_numbers = True or you will get the same thing!!!\n",
    "                        stopwords = [],\n",
    "                        include_numbers = True).generate(str(lame_sentences)) \n",
    "fig = plt.figure(1)\n",
    "plt.figure(figsize=(10,10))\n",
    "plt.imshow(wordcloud, interpolation=\"bilinear\")\n",
    "plt.axis('off')\n",
    "plt.show()"
   ]
  },
  {
   "cell_type": "code",
   "execution_count": 0,
   "metadata": {
    "collapsed": false
   },
   "outputs": [
   ],
   "source": [
    "# Training the Word2Vec model (same code as before), but one change: use our lame data that was not preprocessed\n",
    "\n",
    "# Try printing this after training the model.\n",
    "words = model.wv.index_to_key\n",
    "print(words[:10])"
   ]
  },
  {
   "cell_type": "code",
   "execution_count": 0,
   "metadata": {
    "collapsed": false
   },
   "outputs": [
   ],
   "source": [
    "# Finding a vector of a word, but badly"
   ]
  },
  {
   "cell_type": "code",
   "execution_count": 0,
   "metadata": {
    "collapsed": false
   },
   "outputs": [
   ],
   "source": [
    "### Finding the most similar words in the model but... you get the idea ###\n",
    "\n"
   ]
  },
  {
   "cell_type": "code",
   "execution_count": 0,
   "metadata": {
    "collapsed": false
   },
   "outputs": [
   ],
   "source": [
   ]
  },
  {
   "cell_type": "markdown",
   "metadata": {
    "collapsed": false
   },
   "source": [
    "## Reflection\n",
    "How important do you think proper preprocessing in NLP is?"
   ]
  },
  {
   "cell_type": "markdown",
   "metadata": {
    "collapsed": false
   },
   "source": [
   ]
  }
 ],
 "metadata": {
  "interpreter": {
   "hash": "335ee12212264728feb72f243af72c5a8ea26c832f07e1f651ce9e17c7ceae23"
  },
  "kernelspec": {
   "display_name": "Python 3 (Ubuntu Linux)",
   "language": "python",
   "name": "python3-ubuntu",
   "resource_dir": "/usr/local/share/jupyter/kernels/python3-ubuntu"
  },
  "language_info": {
   "codemirror_mode": {
    "name": "ipython",
    "version": 3
   },
   "file_extension": ".py",
   "mimetype": "text/x-python",
   "name": "python",
   "nbconvert_exporter": "python",
   "pygments_lexer": "ipython3",
   "version": "3.8.10"
  },
  "widgets": {
   "application/vnd.jupyter.widget-state+json": {
    "state": {
    },
    "version_major": 2,
    "version_minor": 0
   }
  }
 },
 "nbformat": 4,
 "nbformat_minor": 4
}